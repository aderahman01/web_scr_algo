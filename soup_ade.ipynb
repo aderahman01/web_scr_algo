{
 "cells": [
  {
   "cell_type": "code",
   "execution_count": 198,
   "metadata": {},
   "outputs": [],
   "source": [
    "from flask import Flask, render_template \n",
    "import pandas as pd\n",
    "import requests\n",
    "from bs4 import BeautifulSoup \n",
    "from io import BytesIO\n",
    "import base64\n",
    "import matplotlib.pyplot as plt"
   ]
  },
  {
   "cell_type": "code",
   "execution_count": 148,
   "metadata": {},
   "outputs": [],
   "source": [
    "url_get = requests.get('https://monexnews.com/kurs-valuta-asing.htm?kurs=JPY&searchdatefrom=01-01-2019&searchdateto=30-12-2019')\n",
    "soup = BeautifulSoup(url_get.content,\"html.parser\")"
   ]
  },
  {
   "cell_type": "code",
   "execution_count": 149,
   "metadata": {},
   "outputs": [
    {
     "output_type": "stream",
     "name": "stdout",
     "text": "<class 'bs4.BeautifulSoup'>\n"
    }
   ],
   "source": [
    "print(type(soup))"
   ]
  },
  {
   "cell_type": "code",
   "execution_count": 150,
   "metadata": {},
   "outputs": [
    {
     "output_type": "stream",
     "name": "stdout",
     "text": "<!DOCTYPE html PUBLIC \"-//W3C//DTD XHTML 1.0 Transitional//EN\" \"http://www.w3.org/TR/xhtml1/DTD/xhtml1-transitional.dtd\">\n<html xmlns=\"http://www.w3.org/1999/xhtml\">\n <head>\n  <meta content=\"en,in\" http-equiv=\"Content-Language\"/>\n  <link href=\"https://monexnews.com/kurs-valuta-asing.php\" hreflang=\"en-ID\" rel=\"alternate\"/>\n  <base href=\"https://monexnews.com/\" target=\"_self\"/>\n  <title>\n   Kurs Yen Jepang | JPY | Harga Nilai Tukar Yen Hari Ini | Monexnews\n  </title>\n  <meta content=\"Kurs yen jepang JPY, nilai tukar rupiah terhadap harga yen hari ini berdasar kurs tengah BI, Bank Indonesia. \" name=\"description\"/>\n  <meta content=\"Kurs yen, jpy, nilai tukar yen, monexnews\" name=\"keywords\"/>\n  <meta content=\"favicon.jpg\" property=\"og:image\"/>\n  <meta content=\"Ultimaengine.com\" name=\"author\"/>\n  <meta content=\"follow, index\" name=\"robots\"/>\n  <meta content=\"7 days\" name=\"revisit-after\"/>\n  <meta content=\"width=device-width, initial-scale=1.0\" name=\"viewport\"/>\n  <meta content=\"M7NOlgqcEadhlLSiEssmvNI08vl1BowAztIyERgEgMQ\" name=\"google-\n"
    }
   ],
   "source": [
    "print(soup.prettify()[:1045])"
   ]
  },
  {
   "cell_type": "markdown",
   "metadata": {},
   "source": [
    "## Cari table di www\n",
    "\n",
    "<table class=\"table\">\n",
    "<tbody><tr>\n",
    "<td>TANGGAL</td>\n",
    "<td>ASK</td>\n",
    "<td>BID</td>\n",
    "</tr>\n",
    "<tr class=\"verySoftGreyBg\">\n",
    "<td>14&nbsp;Mei&nbsp;2020</td>\n",
    "<td>140,55</td>\n",
    "<td>139,14</td>\n",
    "</tr>\n"
   ]
  },
  {
   "cell_type": "code",
   "execution_count": 199,
   "metadata": {},
   "outputs": [
    {
     "output_type": "stream",
     "name": "stdout",
     "text": "table class=\"table\">\n <tr>\n  <td>\n   TANGGAL\n  </td>\n  <td>\n   ASK\n  </td>\n  <td>\n   BID\n  </td>\n </tr>\n <tr class=\"verySoftGreyBg\">\n  <td>\n   30 Desember 2019\n  </td>\n  <td>\n   128,30\n  </td>\n  <td>\n   127,02\n  </td>\n </tr>\n <tr>\n  <td>\n   27 Desember 2019\n  </td>\n  <td>\n   128,11\n  </td>\n  <td>\n   126,83\n  </td>\n </tr>\n <tr class=\"verySoftGreyBg\">\n  <td>\n   26 Desember 2019\n  </td>\n  <td>\n   128,27\n  </td>\n  <td>\n   126,98\n  </td>\n </tr>\n <tr>\n  <td>\n   23 Desember 2019\n  </td>\n  <td>\n   128,\n"
    }
   ],
   "source": [
    "table = soup.find('table', attrs={'class':'table'})\n",
    "print(table.prettify()[1:500])"
   ]
  },
  {
   "cell_type": "code",
   "execution_count": 200,
   "metadata": {},
   "outputs": [],
   "source": [
    "tr = table.find_all('tr')"
   ]
  },
  {
   "cell_type": "code",
   "execution_count": 154,
   "metadata": {},
   "outputs": [
    {
     "output_type": "stream",
     "name": "stdout",
     "text": "\n"
    }
   ],
   "source": [
    "tr\n",
    "print()"
   ]
  },
  {
   "cell_type": "code",
   "execution_count": 201,
   "metadata": {},
   "outputs": [],
   "source": [
    "temp = [] "
   ]
  },
  {
   "cell_type": "code",
   "execution_count": 202,
   "metadata": {},
   "outputs": [],
   "source": [
    "for i in range(1, len(tr)):\n",
    "    row = table.find_all('tr')[i]\n",
    "    \n",
    "    #get tanggal \n",
    "    DATE = row.find_all('td')[0].text\n",
    "    DATE =  DATE.strip() #for removing the excess whitespace\n",
    "    \n",
    "    #get inflasi\n",
    "    ASK = row.find_all('td')[1].text\n",
    "    ASK = ASK.strip() #for removing the excess whitespace\n",
    "\n",
    "    #get inflasi\n",
    "    BID = row.find_all('td')[2].text\n",
    "    BID = BID.strip() #for removing the excess whitespace\n",
    "    \n",
    "    temp.append((DATE,ASK,BID)) "
   ]
  },
  {
   "cell_type": "code",
   "execution_count": 76,
   "metadata": {},
   "outputs": [
    {
     "output_type": "error",
     "ename": "AttributeError",
     "evalue": "'list' object has no attribute 'head'",
     "traceback": [
      "\u001b[1;31m---------------------------------------------------------------------------\u001b[0m",
      "\u001b[1;31mAttributeError\u001b[0m                            Traceback (most recent call last)",
      "\u001b[1;32m<ipython-input-76-0b30836876e7>\u001b[0m in \u001b[0;36m<module>\u001b[1;34m\u001b[0m\n\u001b[0;32m      1\u001b[0m \u001b[0mtemp\u001b[0m \u001b[1;33m=\u001b[0m \u001b[0mtemp\u001b[0m\u001b[1;33m[\u001b[0m\u001b[1;33m:\u001b[0m\u001b[1;33m:\u001b[0m\u001b[1;33m-\u001b[0m\u001b[1;36m1\u001b[0m\u001b[1;33m]\u001b[0m\u001b[1;33m\u001b[0m\u001b[0m\n\u001b[1;32m----> 2\u001b[1;33m \u001b[0mtemp\u001b[0m\u001b[1;33m.\u001b[0m\u001b[0mhead\u001b[0m\u001b[1;33m(\u001b[0m\u001b[1;33m)\u001b[0m\u001b[1;33m\u001b[0m\u001b[0m\n\u001b[0m",
      "\u001b[1;31mAttributeError\u001b[0m: 'list' object has no attribute 'head'"
     ]
    }
   ],
   "source": [
    "\n"
   ]
  },
  {
   "cell_type": "code",
   "execution_count": 156,
   "metadata": {},
   "outputs": [
    {
     "output_type": "stream",
     "name": "stdout",
     "text": "\n"
    }
   ],
   "source": [
    "temp\n",
    "print()"
   ]
  },
  {
   "cell_type": "code",
   "execution_count": 203,
   "metadata": {},
   "outputs": [],
   "source": [
    "import pandas as pd\n",
    "df = pd.DataFrame(temp, columns = ('Date','Ask','Bid'))\n"
   ]
  },
  {
   "cell_type": "code",
   "execution_count": 204,
   "metadata": {},
   "outputs": [
    {
     "output_type": "execute_result",
     "data": {
      "text/plain": "                 Date     Ask     Bid\n0    30 Desember 2019  128,30  127,02\n1    27 Desember 2019  128,11  126,83\n2    26 Desember 2019  128,27  126,98\n3    23 Desember 2019  128,39  127,10\n4    20 Desember 2019  128,63  127,34\n..                ...     ...     ...\n240   08 Januari 2019  129,84  128,52\n241   07 Januari 2019  130,86  129,51\n242   04 Januari 2019  133,51  132,17\n243   03 Januari 2019  135,44  134,08\n244   02 Januari 2019  132,89  131,54\n\n[245 rows x 3 columns]",
      "text/html": "<div>\n<style scoped>\n    .dataframe tbody tr th:only-of-type {\n        vertical-align: middle;\n    }\n\n    .dataframe tbody tr th {\n        vertical-align: top;\n    }\n\n    .dataframe thead th {\n        text-align: right;\n    }\n</style>\n<table border=\"1\" class=\"dataframe\">\n  <thead>\n    <tr style=\"text-align: right;\">\n      <th></th>\n      <th>Date</th>\n      <th>Ask</th>\n      <th>Bid</th>\n    </tr>\n  </thead>\n  <tbody>\n    <tr>\n      <th>0</th>\n      <td>30 Desember 2019</td>\n      <td>128,30</td>\n      <td>127,02</td>\n    </tr>\n    <tr>\n      <th>1</th>\n      <td>27 Desember 2019</td>\n      <td>128,11</td>\n      <td>126,83</td>\n    </tr>\n    <tr>\n      <th>2</th>\n      <td>26 Desember 2019</td>\n      <td>128,27</td>\n      <td>126,98</td>\n    </tr>\n    <tr>\n      <th>3</th>\n      <td>23 Desember 2019</td>\n      <td>128,39</td>\n      <td>127,10</td>\n    </tr>\n    <tr>\n      <th>4</th>\n      <td>20 Desember 2019</td>\n      <td>128,63</td>\n      <td>127,34</td>\n    </tr>\n    <tr>\n      <th>...</th>\n      <td>...</td>\n      <td>...</td>\n      <td>...</td>\n    </tr>\n    <tr>\n      <th>240</th>\n      <td>08 Januari 2019</td>\n      <td>129,84</td>\n      <td>128,52</td>\n    </tr>\n    <tr>\n      <th>241</th>\n      <td>07 Januari 2019</td>\n      <td>130,86</td>\n      <td>129,51</td>\n    </tr>\n    <tr>\n      <th>242</th>\n      <td>04 Januari 2019</td>\n      <td>133,51</td>\n      <td>132,17</td>\n    </tr>\n    <tr>\n      <th>243</th>\n      <td>03 Januari 2019</td>\n      <td>135,44</td>\n      <td>134,08</td>\n    </tr>\n    <tr>\n      <th>244</th>\n      <td>02 Januari 2019</td>\n      <td>132,89</td>\n      <td>131,54</td>\n    </tr>\n  </tbody>\n</table>\n<p>245 rows × 3 columns</p>\n</div>"
     },
     "metadata": {},
     "execution_count": 204
    }
   ],
   "source": [
    "df "
   ]
  },
  {
   "cell_type": "code",
   "execution_count": null,
   "metadata": {},
   "outputs": [],
   "source": []
  },
  {
   "cell_type": "code",
   "execution_count": 205,
   "metadata": {},
   "outputs": [],
   "source": [
    "df['Date']=df['Date'].str.replace(\"Mei\",\"May\")\n",
    "df['Date']=df['Date'].str.replace(\"Januari\",\"Jan\")\n",
    "df['Date']=df['Date'].str.replace(\"Februari\",\"Feb\")\n",
    "df['Date']=df['Date'].str.replace(\"Maret\",\"Mar\")\n",
    "df['Date']=df['Date'].str.replace(\"April\",\"Apr\")\n",
    "df['Date']=df['Date'].str.replace(\"Juni\",\"Jun\")\n",
    "df['Date']=df['Date'].str.replace(\"Juli\",\"Jul\")\n",
    "df['Date']=df['Date'].str.replace(\"Agustus\",\"Aug\")\n",
    "df['Date']=df['Date'].str.replace(\"September\",\"Sep\")\n",
    "df['Date']=df['Date'].str.replace(\"Oktober\",\"Oct\")\n",
    "df['Date']=df['Date'].str.replace(\"November\",\"Nov\")\n",
    "df['Date']=df['Date'].str.replace(\"Desember\",\"Dec\")"
   ]
  },
  {
   "cell_type": "code",
   "execution_count": 206,
   "metadata": {},
   "outputs": [],
   "source": [
    "df['Ask'] = df['Ask'].str.replace(\",\",\".\")\n",
    "df['Bid'] = df['Bid'].str.replace(\",\",\".\")"
   ]
  },
  {
   "cell_type": "code",
   "execution_count": 207,
   "metadata": {},
   "outputs": [],
   "source": [
    "df['Ask']=df['Ask'].astype('float')\n",
    "df['Bid']=df['Bid'].astype('float')"
   ]
  },
  {
   "cell_type": "code",
   "execution_count": 170,
   "metadata": {},
   "outputs": [
    {
     "output_type": "execute_result",
     "data": {
      "text/plain": "0     2019-01-02\n1     2019-01-03\n2     2019-01-04\n3     2019-01-07\n4     2019-01-08\n         ...    \n221   2019-11-25\n222   2019-11-26\n223   2019-11-27\n224   2019-11-28\n225   2019-11-29\nName: Date, Length: 226, dtype: datetime64[ns]"
     },
     "metadata": {},
     "execution_count": 170
    }
   ],
   "source": [
    "df['Date']"
   ]
  },
  {
   "cell_type": "code",
   "execution_count": 208,
   "metadata": {},
   "outputs": [],
   "source": [
    "df['Date']=df['Date'].astype('datetime64')"
   ]
  },
  {
   "cell_type": "code",
   "execution_count": 209,
   "metadata": {},
   "outputs": [
    {
     "output_type": "execute_result",
     "data": {
      "text/plain": "Date    datetime64[ns]\nAsk            float64\nBid            float64\ndtype: object"
     },
     "metadata": {},
     "execution_count": 209
    }
   ],
   "source": [
    "df.dtypes"
   ]
  },
  {
   "cell_type": "code",
   "execution_count": 210,
   "metadata": {},
   "outputs": [],
   "source": [
    "df = df.sort_values(by='Date').set_index('Date')"
   ]
  },
  {
   "cell_type": "code",
   "execution_count": 211,
   "metadata": {},
   "outputs": [
    {
     "output_type": "execute_result",
     "data": {
      "text/plain": "               Ask     Bid\nDate                      \n2019-01-02  132.89  131.54\n2019-01-03  135.44  134.08\n2019-01-04  133.51  132.17\n2019-01-07  130.86  129.51\n2019-01-08  129.84  128.52\n...            ...     ...\n2019-12-20  128.63  127.34\n2019-12-23  128.39  127.10\n2019-12-26  128.27  126.98\n2019-12-27  128.11  126.83\n2019-12-30  128.30  127.02\n\n[245 rows x 2 columns]",
      "text/html": "<div>\n<style scoped>\n    .dataframe tbody tr th:only-of-type {\n        vertical-align: middle;\n    }\n\n    .dataframe tbody tr th {\n        vertical-align: top;\n    }\n\n    .dataframe thead th {\n        text-align: right;\n    }\n</style>\n<table border=\"1\" class=\"dataframe\">\n  <thead>\n    <tr style=\"text-align: right;\">\n      <th></th>\n      <th>Ask</th>\n      <th>Bid</th>\n    </tr>\n    <tr>\n      <th>Date</th>\n      <th></th>\n      <th></th>\n    </tr>\n  </thead>\n  <tbody>\n    <tr>\n      <th>2019-01-02</th>\n      <td>132.89</td>\n      <td>131.54</td>\n    </tr>\n    <tr>\n      <th>2019-01-03</th>\n      <td>135.44</td>\n      <td>134.08</td>\n    </tr>\n    <tr>\n      <th>2019-01-04</th>\n      <td>133.51</td>\n      <td>132.17</td>\n    </tr>\n    <tr>\n      <th>2019-01-07</th>\n      <td>130.86</td>\n      <td>129.51</td>\n    </tr>\n    <tr>\n      <th>2019-01-08</th>\n      <td>129.84</td>\n      <td>128.52</td>\n    </tr>\n    <tr>\n      <th>...</th>\n      <td>...</td>\n      <td>...</td>\n    </tr>\n    <tr>\n      <th>2019-12-20</th>\n      <td>128.63</td>\n      <td>127.34</td>\n    </tr>\n    <tr>\n      <th>2019-12-23</th>\n      <td>128.39</td>\n      <td>127.10</td>\n    </tr>\n    <tr>\n      <th>2019-12-26</th>\n      <td>128.27</td>\n      <td>126.98</td>\n    </tr>\n    <tr>\n      <th>2019-12-27</th>\n      <td>128.11</td>\n      <td>126.83</td>\n    </tr>\n    <tr>\n      <th>2019-12-30</th>\n      <td>128.30</td>\n      <td>127.02</td>\n    </tr>\n  </tbody>\n</table>\n<p>245 rows × 2 columns</p>\n</div>"
     },
     "metadata": {},
     "execution_count": 211
    }
   ],
   "source": [
    "df"
   ]
  },
  {
   "cell_type": "code",
   "execution_count": 212,
   "metadata": {},
   "outputs": [],
   "source": [
    "df = df.resample('M').mean()"
   ]
  },
  {
   "cell_type": "code",
   "execution_count": 183,
   "metadata": {},
   "outputs": [],
   "source": [
    "#df = df.reset_index()"
   ]
  },
  {
   "cell_type": "code",
   "execution_count": 213,
   "metadata": {},
   "outputs": [
    {
     "output_type": "execute_result",
     "data": {
      "text/plain": "                   Ask         Bid\nDate                              \n2019-01-31  130.750000  129.421818\n2019-02-28  127.862632  126.571053\n2019-03-31  128.524500  127.218000\n2019-04-30  127.367368  126.071053\n2019-05-31  131.472857  130.135238\n2019-06-30  132.400667  131.046000\n2019-07-31  130.464348  129.133043\n2019-08-31  134.737727  133.372273\n2019-09-30  132.008571  130.663810\n2019-10-31  131.215652  129.883913\n2019-11-30  129.923810  128.602857\n2019-12-31  129.124211  127.816316",
      "text/html": "<div>\n<style scoped>\n    .dataframe tbody tr th:only-of-type {\n        vertical-align: middle;\n    }\n\n    .dataframe tbody tr th {\n        vertical-align: top;\n    }\n\n    .dataframe thead th {\n        text-align: right;\n    }\n</style>\n<table border=\"1\" class=\"dataframe\">\n  <thead>\n    <tr style=\"text-align: right;\">\n      <th></th>\n      <th>Ask</th>\n      <th>Bid</th>\n    </tr>\n    <tr>\n      <th>Date</th>\n      <th></th>\n      <th></th>\n    </tr>\n  </thead>\n  <tbody>\n    <tr>\n      <th>2019-01-31</th>\n      <td>130.750000</td>\n      <td>129.421818</td>\n    </tr>\n    <tr>\n      <th>2019-02-28</th>\n      <td>127.862632</td>\n      <td>126.571053</td>\n    </tr>\n    <tr>\n      <th>2019-03-31</th>\n      <td>128.524500</td>\n      <td>127.218000</td>\n    </tr>\n    <tr>\n      <th>2019-04-30</th>\n      <td>127.367368</td>\n      <td>126.071053</td>\n    </tr>\n    <tr>\n      <th>2019-05-31</th>\n      <td>131.472857</td>\n      <td>130.135238</td>\n    </tr>\n    <tr>\n      <th>2019-06-30</th>\n      <td>132.400667</td>\n      <td>131.046000</td>\n    </tr>\n    <tr>\n      <th>2019-07-31</th>\n      <td>130.464348</td>\n      <td>129.133043</td>\n    </tr>\n    <tr>\n      <th>2019-08-31</th>\n      <td>134.737727</td>\n      <td>133.372273</td>\n    </tr>\n    <tr>\n      <th>2019-09-30</th>\n      <td>132.008571</td>\n      <td>130.663810</td>\n    </tr>\n    <tr>\n      <th>2019-10-31</th>\n      <td>131.215652</td>\n      <td>129.883913</td>\n    </tr>\n    <tr>\n      <th>2019-11-30</th>\n      <td>129.923810</td>\n      <td>128.602857</td>\n    </tr>\n    <tr>\n      <th>2019-12-31</th>\n      <td>129.124211</td>\n      <td>127.816316</td>\n    </tr>\n  </tbody>\n</table>\n</div>"
     },
     "metadata": {},
     "execution_count": 213
    }
   ],
   "source": [
    "df"
   ]
  },
  {
   "cell_type": "code",
   "execution_count": null,
   "metadata": {},
   "outputs": [],
   "source": []
  },
  {
   "cell_type": "code",
   "execution_count": 214,
   "metadata": {},
   "outputs": [
    {
     "output_type": "execute_result",
     "data": {
      "text/plain": "<matplotlib.axes._subplots.AxesSubplot at 0x1a9e9a5c9b0>"
     },
     "metadata": {},
     "execution_count": 214
    },
    {
     "output_type": "display_data",
     "data": {
      "text/plain": "<Figure size 432x288 with 1 Axes>",
      "image/svg+xml": "<?xml version=\"1.0\" encoding=\"utf-8\" standalone=\"no\"?>\r\n<!DOCTYPE svg PUBLIC \"-//W3C//DTD SVG 1.1//EN\"\r\n  \"http://www.w3.org/Graphics/SVG/1.1/DTD/svg11.dtd\">\r\n<!-- Created with matplotlib (https://matplotlib.org/) -->\r\n<svg height=\"360.25718pt\" version=\"1.1\" viewBox=\"0 0 375.2875 360.25718\" width=\"375.2875pt\" xmlns=\"http://www.w3.org/2000/svg\" xmlns:xlink=\"http://www.w3.org/1999/xlink\">\r\n <defs>\r\n  <style type=\"text/css\">\r\n*{stroke-linecap:butt;stroke-linejoin:round;}\r\n  </style>\r\n </defs>\r\n <g id=\"figure_1\">\r\n  <g id=\"patch_1\">\r\n   <path d=\"M 0 360.25718 \r\nL 375.2875 360.25718 \r\nL 375.2875 0 \r\nL 0 0 \r\nz\r\n\" style=\"fill:none;\"/>\r\n  </g>\r\n  <g id=\"axes_1\">\r\n   <g id=\"patch_2\">\r\n    <path d=\"M 33.2875 226.172805 \r\nL 368.0875 226.172805 \r\nL 368.0875 8.732805 \r\nL 33.2875 8.732805 \r\nz\r\n\" style=\"fill:#ffffff;\"/>\r\n   </g>\r\n   <g id=\"patch_3\">\r\n    <path clip-path=\"url(#pe1ef38b9ca)\" d=\"M 40.2625 226.172805 \r\nL 47.2375 226.172805 \r\nL 47.2375 25.216045 \r\nL 40.2625 25.216045 \r\nz\r\n\" style=\"fill:#1f77b4;\"/>\r\n   </g>\r\n   <g id=\"patch_4\">\r\n    <path clip-path=\"url(#pe1ef38b9ca)\" d=\"M 68.1625 226.172805 \r\nL 75.1375 226.172805 \r\nL 75.1375 29.653798 \r\nL 68.1625 29.653798 \r\nz\r\n\" style=\"fill:#1f77b4;\"/>\r\n   </g>\r\n   <g id=\"patch_5\">\r\n    <path clip-path=\"url(#pe1ef38b9ca)\" d=\"M 96.0625 226.172805 \r\nL 103.0375 226.172805 \r\nL 103.0375 28.636537 \r\nL 96.0625 28.636537 \r\nz\r\n\" style=\"fill:#1f77b4;\"/>\r\n   </g>\r\n   <g id=\"patch_6\">\r\n    <path clip-path=\"url(#pe1ef38b9ca)\" d=\"M 123.9625 226.172805 \r\nL 130.9375 226.172805 \r\nL 130.9375 30.414995 \r\nL 123.9625 30.414995 \r\nz\r\n\" style=\"fill:#1f77b4;\"/>\r\n   </g>\r\n   <g id=\"patch_7\">\r\n    <path clip-path=\"url(#pe1ef38b9ca)\" d=\"M 151.8625 226.172805 \r\nL 158.8375 226.172805 \r\nL 158.8375 24.105047 \r\nL 151.8625 24.105047 \r\nz\r\n\" style=\"fill:#1f77b4;\"/>\r\n   </g>\r\n   <g id=\"patch_8\">\r\n    <path clip-path=\"url(#pe1ef38b9ca)\" d=\"M 179.7625 226.172805 \r\nL 186.7375 226.172805 \r\nL 186.7375 22.679046 \r\nL 179.7625 22.679046 \r\nz\r\n\" style=\"fill:#1f77b4;\"/>\r\n   </g>\r\n   <g id=\"patch_9\">\r\n    <path clip-path=\"url(#pe1ef38b9ca)\" d=\"M 207.6625 226.172805 \r\nL 214.6375 226.172805 \r\nL 214.6375 25.655079 \r\nL 207.6625 25.655079 \r\nz\r\n\" style=\"fill:#1f77b4;\"/>\r\n   </g>\r\n   <g id=\"patch_10\">\r\n    <path clip-path=\"url(#pe1ef38b9ca)\" d=\"M 235.5625 226.172805 \r\nL 242.5375 226.172805 \r\nL 242.5375 19.087091 \r\nL 235.5625 19.087091 \r\nz\r\n\" style=\"fill:#1f77b4;\"/>\r\n   </g>\r\n   <g id=\"patch_11\">\r\n    <path clip-path=\"url(#pe1ef38b9ca)\" d=\"M 263.4625 226.172805 \r\nL 270.4375 226.172805 \r\nL 270.4375 23.281678 \r\nL 263.4625 23.281678 \r\nz\r\n\" style=\"fill:#1f77b4;\"/>\r\n   </g>\r\n   <g id=\"patch_12\">\r\n    <path clip-path=\"url(#pe1ef38b9ca)\" d=\"M 291.3625 226.172805 \r\nL 298.3375 226.172805 \r\nL 298.3375 24.500359 \r\nL 291.3625 24.500359 \r\nz\r\n\" style=\"fill:#1f77b4;\"/>\r\n   </g>\r\n   <g id=\"patch_13\">\r\n    <path clip-path=\"url(#pe1ef38b9ca)\" d=\"M 319.2625 226.172805 \r\nL 326.2375 226.172805 \r\nL 326.2375 26.485862 \r\nL 319.2625 26.485862 \r\nz\r\n\" style=\"fill:#1f77b4;\"/>\r\n   </g>\r\n   <g id=\"patch_14\">\r\n    <path clip-path=\"url(#pe1ef38b9ca)\" d=\"M 347.1625 226.172805 \r\nL 354.1375 226.172805 \r\nL 354.1375 27.714809 \r\nL 347.1625 27.714809 \r\nz\r\n\" style=\"fill:#1f77b4;\"/>\r\n   </g>\r\n   <g id=\"patch_15\">\r\n    <path clip-path=\"url(#pe1ef38b9ca)\" d=\"M 47.2375 226.172805 \r\nL 54.2125 226.172805 \r\nL 54.2125 27.2574 \r\nL 47.2375 27.2574 \r\nz\r\n\" style=\"fill:#ff7f0e;\"/>\r\n   </g>\r\n   <g id=\"patch_16\">\r\n    <path clip-path=\"url(#pe1ef38b9ca)\" d=\"M 75.1375 226.172805 \r\nL 82.1125 226.172805 \r\nL 82.1125 31.638896 \r\nL 75.1375 31.638896 \r\nz\r\n\" style=\"fill:#ff7f0e;\"/>\r\n   </g>\r\n   <g id=\"patch_17\">\r\n    <path clip-path=\"url(#pe1ef38b9ca)\" d=\"M 103.0375 226.172805 \r\nL 110.0125 226.172805 \r\nL 110.0125 30.644567 \r\nL 103.0375 30.644567 \r\nz\r\n\" style=\"fill:#ff7f0e;\"/>\r\n   </g>\r\n   <g id=\"patch_18\">\r\n    <path clip-path=\"url(#pe1ef38b9ca)\" d=\"M 130.9375 226.172805 \r\nL 137.9125 226.172805 \r\nL 137.9125 32.407373 \r\nL 130.9375 32.407373 \r\nz\r\n\" style=\"fill:#ff7f0e;\"/>\r\n   </g>\r\n   <g id=\"patch_19\">\r\n    <path clip-path=\"url(#pe1ef38b9ca)\" d=\"M 158.8375 226.172805 \r\nL 165.8125 226.172805 \r\nL 165.8125 26.160906 \r\nL 158.8375 26.160906 \r\nz\r\n\" style=\"fill:#ff7f0e;\"/>\r\n   </g>\r\n   <g id=\"patch_20\">\r\n    <path clip-path=\"url(#pe1ef38b9ca)\" d=\"M 186.7375 226.172805 \r\nL 193.7125 226.172805 \r\nL 193.7125 24.761107 \r\nL 186.7375 24.761107 \r\nz\r\n\" style=\"fill:#ff7f0e;\"/>\r\n   </g>\r\n   <g id=\"patch_21\">\r\n    <path clip-path=\"url(#pe1ef38b9ca)\" d=\"M 214.6375 226.172805 \r\nL 221.6125 226.172805 \r\nL 221.6125 27.701233 \r\nL 214.6375 27.701233 \r\nz\r\n\" style=\"fill:#ff7f0e;\"/>\r\n   </g>\r\n   <g id=\"patch_22\">\r\n    <path clip-path=\"url(#pe1ef38b9ca)\" d=\"M 242.5375 226.172805 \r\nL 249.5125 226.172805 \r\nL 249.5125 21.185732 \r\nL 242.5375 21.185732 \r\nz\r\n\" style=\"fill:#ff7f0e;\"/>\r\n   </g>\r\n   <g id=\"patch_23\">\r\n    <path clip-path=\"url(#pe1ef38b9ca)\" d=\"M 270.4375 226.172805 \r\nL 277.4125 226.172805 \r\nL 277.4125 25.348516 \r\nL 270.4375 25.348516 \r\nz\r\n\" style=\"fill:#ff7f0e;\"/>\r\n   </g>\r\n   <g id=\"patch_24\">\r\n    <path clip-path=\"url(#pe1ef38b9ca)\" d=\"M 298.3375 226.172805 \r\nL 305.3125 226.172805 \r\nL 305.3125 26.547181 \r\nL 298.3375 26.547181 \r\nz\r\n\" style=\"fill:#ff7f0e;\"/>\r\n   </g>\r\n   <g id=\"patch_25\">\r\n    <path clip-path=\"url(#pe1ef38b9ca)\" d=\"M 326.2375 226.172805 \r\nL 333.2125 226.172805 \r\nL 333.2125 28.516105 \r\nL 326.2375 28.516105 \r\nz\r\n\" style=\"fill:#ff7f0e;\"/>\r\n   </g>\r\n   <g id=\"patch_26\">\r\n    <path clip-path=\"url(#pe1ef38b9ca)\" d=\"M 354.1375 226.172805 \r\nL 361.1125 226.172805 \r\nL 361.1125 29.724983 \r\nL 354.1375 29.724983 \r\nz\r\n\" style=\"fill:#ff7f0e;\"/>\r\n   </g>\r\n   <g id=\"matplotlib.axis_1\">\r\n    <g id=\"xtick_1\">\r\n     <g id=\"line2d_1\">\r\n      <defs>\r\n       <path d=\"M 0 0 \r\nL 0 3.5 \r\n\" id=\"m5de4c3cc15\" style=\"stroke:#000000;stroke-width:0.8;\"/>\r\n      </defs>\r\n      <g>\r\n       <use style=\"stroke:#000000;stroke-width:0.8;\" x=\"47.2375\" xlink:href=\"#m5de4c3cc15\" y=\"226.172805\"/>\r\n      </g>\r\n     </g>\r\n     <g id=\"text_1\">\r\n      <!-- 2019-01-31 00:00:00 -->\r\n      <defs>\r\n       <path d=\"M 19.1875 8.296875 \r\nL 53.609375 8.296875 \r\nL 53.609375 0 \r\nL 7.328125 0 \r\nL 7.328125 8.296875 \r\nQ 12.9375 14.109375 22.625 23.890625 \r\nQ 32.328125 33.6875 34.8125 36.53125 \r\nQ 39.546875 41.84375 41.421875 45.53125 \r\nQ 43.3125 49.21875 43.3125 52.78125 \r\nQ 43.3125 58.59375 39.234375 62.25 \r\nQ 35.15625 65.921875 28.609375 65.921875 \r\nQ 23.96875 65.921875 18.8125 64.3125 \r\nQ 13.671875 62.703125 7.8125 59.421875 \r\nL 7.8125 69.390625 \r\nQ 13.765625 71.78125 18.9375 73 \r\nQ 24.125 74.21875 28.421875 74.21875 \r\nQ 39.75 74.21875 46.484375 68.546875 \r\nQ 53.21875 62.890625 53.21875 53.421875 \r\nQ 53.21875 48.921875 51.53125 44.890625 \r\nQ 49.859375 40.875 45.40625 35.40625 \r\nQ 44.1875 33.984375 37.640625 27.21875 \r\nQ 31.109375 20.453125 19.1875 8.296875 \r\nz\r\n\" id=\"DejaVuSans-50\"/>\r\n       <path d=\"M 31.78125 66.40625 \r\nQ 24.171875 66.40625 20.328125 58.90625 \r\nQ 16.5 51.421875 16.5 36.375 \r\nQ 16.5 21.390625 20.328125 13.890625 \r\nQ 24.171875 6.390625 31.78125 6.390625 \r\nQ 39.453125 6.390625 43.28125 13.890625 \r\nQ 47.125 21.390625 47.125 36.375 \r\nQ 47.125 51.421875 43.28125 58.90625 \r\nQ 39.453125 66.40625 31.78125 66.40625 \r\nz\r\nM 31.78125 74.21875 \r\nQ 44.046875 74.21875 50.515625 64.515625 \r\nQ 56.984375 54.828125 56.984375 36.375 \r\nQ 56.984375 17.96875 50.515625 8.265625 \r\nQ 44.046875 -1.421875 31.78125 -1.421875 \r\nQ 19.53125 -1.421875 13.0625 8.265625 \r\nQ 6.59375 17.96875 6.59375 36.375 \r\nQ 6.59375 54.828125 13.0625 64.515625 \r\nQ 19.53125 74.21875 31.78125 74.21875 \r\nz\r\n\" id=\"DejaVuSans-48\"/>\r\n       <path d=\"M 12.40625 8.296875 \r\nL 28.515625 8.296875 \r\nL 28.515625 63.921875 \r\nL 10.984375 60.40625 \r\nL 10.984375 69.390625 \r\nL 28.421875 72.90625 \r\nL 38.28125 72.90625 \r\nL 38.28125 8.296875 \r\nL 54.390625 8.296875 \r\nL 54.390625 0 \r\nL 12.40625 0 \r\nz\r\n\" id=\"DejaVuSans-49\"/>\r\n       <path d=\"M 10.984375 1.515625 \r\nL 10.984375 10.5 \r\nQ 14.703125 8.734375 18.5 7.8125 \r\nQ 22.3125 6.890625 25.984375 6.890625 \r\nQ 35.75 6.890625 40.890625 13.453125 \r\nQ 46.046875 20.015625 46.78125 33.40625 \r\nQ 43.953125 29.203125 39.59375 26.953125 \r\nQ 35.25 24.703125 29.984375 24.703125 \r\nQ 19.046875 24.703125 12.671875 31.3125 \r\nQ 6.296875 37.9375 6.296875 49.421875 \r\nQ 6.296875 60.640625 12.9375 67.421875 \r\nQ 19.578125 74.21875 30.609375 74.21875 \r\nQ 43.265625 74.21875 49.921875 64.515625 \r\nQ 56.59375 54.828125 56.59375 36.375 \r\nQ 56.59375 19.140625 48.40625 8.859375 \r\nQ 40.234375 -1.421875 26.421875 -1.421875 \r\nQ 22.703125 -1.421875 18.890625 -0.6875 \r\nQ 15.09375 0.046875 10.984375 1.515625 \r\nz\r\nM 30.609375 32.421875 \r\nQ 37.25 32.421875 41.125 36.953125 \r\nQ 45.015625 41.5 45.015625 49.421875 \r\nQ 45.015625 57.28125 41.125 61.84375 \r\nQ 37.25 66.40625 30.609375 66.40625 \r\nQ 23.96875 66.40625 20.09375 61.84375 \r\nQ 16.21875 57.28125 16.21875 49.421875 \r\nQ 16.21875 41.5 20.09375 36.953125 \r\nQ 23.96875 32.421875 30.609375 32.421875 \r\nz\r\n\" id=\"DejaVuSans-57\"/>\r\n       <path d=\"M 4.890625 31.390625 \r\nL 31.203125 31.390625 \r\nL 31.203125 23.390625 \r\nL 4.890625 23.390625 \r\nz\r\n\" id=\"DejaVuSans-45\"/>\r\n       <path d=\"M 40.578125 39.3125 \r\nQ 47.65625 37.796875 51.625 33 \r\nQ 55.609375 28.21875 55.609375 21.1875 \r\nQ 55.609375 10.40625 48.1875 4.484375 \r\nQ 40.765625 -1.421875 27.09375 -1.421875 \r\nQ 22.515625 -1.421875 17.65625 -0.515625 \r\nQ 12.796875 0.390625 7.625 2.203125 \r\nL 7.625 11.71875 \r\nQ 11.71875 9.328125 16.59375 8.109375 \r\nQ 21.484375 6.890625 26.8125 6.890625 \r\nQ 36.078125 6.890625 40.9375 10.546875 \r\nQ 45.796875 14.203125 45.796875 21.1875 \r\nQ 45.796875 27.640625 41.28125 31.265625 \r\nQ 36.765625 34.90625 28.71875 34.90625 \r\nL 20.21875 34.90625 \r\nL 20.21875 43.015625 \r\nL 29.109375 43.015625 \r\nQ 36.375 43.015625 40.234375 45.921875 \r\nQ 44.09375 48.828125 44.09375 54.296875 \r\nQ 44.09375 59.90625 40.109375 62.90625 \r\nQ 36.140625 65.921875 28.71875 65.921875 \r\nQ 24.65625 65.921875 20.015625 65.03125 \r\nQ 15.375 64.15625 9.8125 62.3125 \r\nL 9.8125 71.09375 \r\nQ 15.4375 72.65625 20.34375 73.4375 \r\nQ 25.25 74.21875 29.59375 74.21875 \r\nQ 40.828125 74.21875 47.359375 69.109375 \r\nQ 53.90625 64.015625 53.90625 55.328125 \r\nQ 53.90625 49.265625 50.4375 45.09375 \r\nQ 46.96875 40.921875 40.578125 39.3125 \r\nz\r\n\" id=\"DejaVuSans-51\"/>\r\n       <path id=\"DejaVuSans-32\"/>\r\n       <path d=\"M 11.71875 12.40625 \r\nL 22.015625 12.40625 \r\nL 22.015625 0 \r\nL 11.71875 0 \r\nz\r\nM 11.71875 51.703125 \r\nL 22.015625 51.703125 \r\nL 22.015625 39.3125 \r\nL 11.71875 39.3125 \r\nz\r\n\" id=\"DejaVuSans-58\"/>\r\n      </defs>\r\n      <g transform=\"translate(49.996875 339.379055)rotate(-90)scale(0.1 -0.1)\">\r\n       <use xlink:href=\"#DejaVuSans-50\"/>\r\n       <use x=\"63.623047\" xlink:href=\"#DejaVuSans-48\"/>\r\n       <use x=\"127.246094\" xlink:href=\"#DejaVuSans-49\"/>\r\n       <use x=\"190.869141\" xlink:href=\"#DejaVuSans-57\"/>\r\n       <use x=\"254.492188\" xlink:href=\"#DejaVuSans-45\"/>\r\n       <use x=\"290.576172\" xlink:href=\"#DejaVuSans-48\"/>\r\n       <use x=\"354.199219\" xlink:href=\"#DejaVuSans-49\"/>\r\n       <use x=\"417.822266\" xlink:href=\"#DejaVuSans-45\"/>\r\n       <use x=\"453.90625\" xlink:href=\"#DejaVuSans-51\"/>\r\n       <use x=\"517.529297\" xlink:href=\"#DejaVuSans-49\"/>\r\n       <use x=\"581.152344\" xlink:href=\"#DejaVuSans-32\"/>\r\n       <use x=\"612.939453\" xlink:href=\"#DejaVuSans-48\"/>\r\n       <use x=\"676.5625\" xlink:href=\"#DejaVuSans-48\"/>\r\n       <use x=\"740.185547\" xlink:href=\"#DejaVuSans-58\"/>\r\n       <use x=\"773.876953\" xlink:href=\"#DejaVuSans-48\"/>\r\n       <use x=\"837.5\" xlink:href=\"#DejaVuSans-48\"/>\r\n       <use x=\"901.123047\" xlink:href=\"#DejaVuSans-58\"/>\r\n       <use x=\"934.814453\" xlink:href=\"#DejaVuSans-48\"/>\r\n       <use x=\"998.4375\" xlink:href=\"#DejaVuSans-48\"/>\r\n      </g>\r\n     </g>\r\n    </g>\r\n    <g id=\"xtick_2\">\r\n     <g id=\"line2d_2\">\r\n      <g>\r\n       <use style=\"stroke:#000000;stroke-width:0.8;\" x=\"75.1375\" xlink:href=\"#m5de4c3cc15\" y=\"226.172805\"/>\r\n      </g>\r\n     </g>\r\n     <g id=\"text_2\">\r\n      <!-- 2019-02-28 00:00:00 -->\r\n      <defs>\r\n       <path d=\"M 31.78125 34.625 \r\nQ 24.75 34.625 20.71875 30.859375 \r\nQ 16.703125 27.09375 16.703125 20.515625 \r\nQ 16.703125 13.921875 20.71875 10.15625 \r\nQ 24.75 6.390625 31.78125 6.390625 \r\nQ 38.8125 6.390625 42.859375 10.171875 \r\nQ 46.921875 13.96875 46.921875 20.515625 \r\nQ 46.921875 27.09375 42.890625 30.859375 \r\nQ 38.875 34.625 31.78125 34.625 \r\nz\r\nM 21.921875 38.8125 \r\nQ 15.578125 40.375 12.03125 44.71875 \r\nQ 8.5 49.078125 8.5 55.328125 \r\nQ 8.5 64.0625 14.71875 69.140625 \r\nQ 20.953125 74.21875 31.78125 74.21875 \r\nQ 42.671875 74.21875 48.875 69.140625 \r\nQ 55.078125 64.0625 55.078125 55.328125 \r\nQ 55.078125 49.078125 51.53125 44.71875 \r\nQ 48 40.375 41.703125 38.8125 \r\nQ 48.828125 37.15625 52.796875 32.3125 \r\nQ 56.78125 27.484375 56.78125 20.515625 \r\nQ 56.78125 9.90625 50.3125 4.234375 \r\nQ 43.84375 -1.421875 31.78125 -1.421875 \r\nQ 19.734375 -1.421875 13.25 4.234375 \r\nQ 6.78125 9.90625 6.78125 20.515625 \r\nQ 6.78125 27.484375 10.78125 32.3125 \r\nQ 14.796875 37.15625 21.921875 38.8125 \r\nz\r\nM 18.3125 54.390625 \r\nQ 18.3125 48.734375 21.84375 45.5625 \r\nQ 25.390625 42.390625 31.78125 42.390625 \r\nQ 38.140625 42.390625 41.71875 45.5625 \r\nQ 45.3125 48.734375 45.3125 54.390625 \r\nQ 45.3125 60.0625 41.71875 63.234375 \r\nQ 38.140625 66.40625 31.78125 66.40625 \r\nQ 25.390625 66.40625 21.84375 63.234375 \r\nQ 18.3125 60.0625 18.3125 54.390625 \r\nz\r\n\" id=\"DejaVuSans-56\"/>\r\n      </defs>\r\n      <g transform=\"translate(77.896875 339.379055)rotate(-90)scale(0.1 -0.1)\">\r\n       <use xlink:href=\"#DejaVuSans-50\"/>\r\n       <use x=\"63.623047\" xlink:href=\"#DejaVuSans-48\"/>\r\n       <use x=\"127.246094\" xlink:href=\"#DejaVuSans-49\"/>\r\n       <use x=\"190.869141\" xlink:href=\"#DejaVuSans-57\"/>\r\n       <use x=\"254.492188\" xlink:href=\"#DejaVuSans-45\"/>\r\n       <use x=\"290.576172\" xlink:href=\"#DejaVuSans-48\"/>\r\n       <use x=\"354.199219\" xlink:href=\"#DejaVuSans-50\"/>\r\n       <use x=\"417.822266\" xlink:href=\"#DejaVuSans-45\"/>\r\n       <use x=\"453.90625\" xlink:href=\"#DejaVuSans-50\"/>\r\n       <use x=\"517.529297\" xlink:href=\"#DejaVuSans-56\"/>\r\n       <use x=\"581.152344\" xlink:href=\"#DejaVuSans-32\"/>\r\n       <use x=\"612.939453\" xlink:href=\"#DejaVuSans-48\"/>\r\n       <use x=\"676.5625\" xlink:href=\"#DejaVuSans-48\"/>\r\n       <use x=\"740.185547\" xlink:href=\"#DejaVuSans-58\"/>\r\n       <use x=\"773.876953\" xlink:href=\"#DejaVuSans-48\"/>\r\n       <use x=\"837.5\" xlink:href=\"#DejaVuSans-48\"/>\r\n       <use x=\"901.123047\" xlink:href=\"#DejaVuSans-58\"/>\r\n       <use x=\"934.814453\" xlink:href=\"#DejaVuSans-48\"/>\r\n       <use x=\"998.4375\" xlink:href=\"#DejaVuSans-48\"/>\r\n      </g>\r\n     </g>\r\n    </g>\r\n    <g id=\"xtick_3\">\r\n     <g id=\"line2d_3\">\r\n      <g>\r\n       <use style=\"stroke:#000000;stroke-width:0.8;\" x=\"103.0375\" xlink:href=\"#m5de4c3cc15\" y=\"226.172805\"/>\r\n      </g>\r\n     </g>\r\n     <g id=\"text_3\">\r\n      <!-- 2019-03-31 00:00:00 -->\r\n      <g transform=\"translate(105.796875 339.379055)rotate(-90)scale(0.1 -0.1)\">\r\n       <use xlink:href=\"#DejaVuSans-50\"/>\r\n       <use x=\"63.623047\" xlink:href=\"#DejaVuSans-48\"/>\r\n       <use x=\"127.246094\" xlink:href=\"#DejaVuSans-49\"/>\r\n       <use x=\"190.869141\" xlink:href=\"#DejaVuSans-57\"/>\r\n       <use x=\"254.492188\" xlink:href=\"#DejaVuSans-45\"/>\r\n       <use x=\"290.576172\" xlink:href=\"#DejaVuSans-48\"/>\r\n       <use x=\"354.199219\" xlink:href=\"#DejaVuSans-51\"/>\r\n       <use x=\"417.822266\" xlink:href=\"#DejaVuSans-45\"/>\r\n       <use x=\"453.90625\" xlink:href=\"#DejaVuSans-51\"/>\r\n       <use x=\"517.529297\" xlink:href=\"#DejaVuSans-49\"/>\r\n       <use x=\"581.152344\" xlink:href=\"#DejaVuSans-32\"/>\r\n       <use x=\"612.939453\" xlink:href=\"#DejaVuSans-48\"/>\r\n       <use x=\"676.5625\" xlink:href=\"#DejaVuSans-48\"/>\r\n       <use x=\"740.185547\" xlink:href=\"#DejaVuSans-58\"/>\r\n       <use x=\"773.876953\" xlink:href=\"#DejaVuSans-48\"/>\r\n       <use x=\"837.5\" xlink:href=\"#DejaVuSans-48\"/>\r\n       <use x=\"901.123047\" xlink:href=\"#DejaVuSans-58\"/>\r\n       <use x=\"934.814453\" xlink:href=\"#DejaVuSans-48\"/>\r\n       <use x=\"998.4375\" xlink:href=\"#DejaVuSans-48\"/>\r\n      </g>\r\n     </g>\r\n    </g>\r\n    <g id=\"xtick_4\">\r\n     <g id=\"line2d_4\">\r\n      <g>\r\n       <use style=\"stroke:#000000;stroke-width:0.8;\" x=\"130.9375\" xlink:href=\"#m5de4c3cc15\" y=\"226.172805\"/>\r\n      </g>\r\n     </g>\r\n     <g id=\"text_4\">\r\n      <!-- 2019-04-30 00:00:00 -->\r\n      <defs>\r\n       <path d=\"M 37.796875 64.3125 \r\nL 12.890625 25.390625 \r\nL 37.796875 25.390625 \r\nz\r\nM 35.203125 72.90625 \r\nL 47.609375 72.90625 \r\nL 47.609375 25.390625 \r\nL 58.015625 25.390625 \r\nL 58.015625 17.1875 \r\nL 47.609375 17.1875 \r\nL 47.609375 0 \r\nL 37.796875 0 \r\nL 37.796875 17.1875 \r\nL 4.890625 17.1875 \r\nL 4.890625 26.703125 \r\nz\r\n\" id=\"DejaVuSans-52\"/>\r\n      </defs>\r\n      <g transform=\"translate(133.696875 339.379055)rotate(-90)scale(0.1 -0.1)\">\r\n       <use xlink:href=\"#DejaVuSans-50\"/>\r\n       <use x=\"63.623047\" xlink:href=\"#DejaVuSans-48\"/>\r\n       <use x=\"127.246094\" xlink:href=\"#DejaVuSans-49\"/>\r\n       <use x=\"190.869141\" xlink:href=\"#DejaVuSans-57\"/>\r\n       <use x=\"254.492188\" xlink:href=\"#DejaVuSans-45\"/>\r\n       <use x=\"290.576172\" xlink:href=\"#DejaVuSans-48\"/>\r\n       <use x=\"354.199219\" xlink:href=\"#DejaVuSans-52\"/>\r\n       <use x=\"417.822266\" xlink:href=\"#DejaVuSans-45\"/>\r\n       <use x=\"453.90625\" xlink:href=\"#DejaVuSans-51\"/>\r\n       <use x=\"517.529297\" xlink:href=\"#DejaVuSans-48\"/>\r\n       <use x=\"581.152344\" xlink:href=\"#DejaVuSans-32\"/>\r\n       <use x=\"612.939453\" xlink:href=\"#DejaVuSans-48\"/>\r\n       <use x=\"676.5625\" xlink:href=\"#DejaVuSans-48\"/>\r\n       <use x=\"740.185547\" xlink:href=\"#DejaVuSans-58\"/>\r\n       <use x=\"773.876953\" xlink:href=\"#DejaVuSans-48\"/>\r\n       <use x=\"837.5\" xlink:href=\"#DejaVuSans-48\"/>\r\n       <use x=\"901.123047\" xlink:href=\"#DejaVuSans-58\"/>\r\n       <use x=\"934.814453\" xlink:href=\"#DejaVuSans-48\"/>\r\n       <use x=\"998.4375\" xlink:href=\"#DejaVuSans-48\"/>\r\n      </g>\r\n     </g>\r\n    </g>\r\n    <g id=\"xtick_5\">\r\n     <g id=\"line2d_5\">\r\n      <g>\r\n       <use style=\"stroke:#000000;stroke-width:0.8;\" x=\"158.8375\" xlink:href=\"#m5de4c3cc15\" y=\"226.172805\"/>\r\n      </g>\r\n     </g>\r\n     <g id=\"text_5\">\r\n      <!-- 2019-05-31 00:00:00 -->\r\n      <defs>\r\n       <path d=\"M 10.796875 72.90625 \r\nL 49.515625 72.90625 \r\nL 49.515625 64.59375 \r\nL 19.828125 64.59375 \r\nL 19.828125 46.734375 \r\nQ 21.96875 47.46875 24.109375 47.828125 \r\nQ 26.265625 48.1875 28.421875 48.1875 \r\nQ 40.625 48.1875 47.75 41.5 \r\nQ 54.890625 34.8125 54.890625 23.390625 \r\nQ 54.890625 11.625 47.5625 5.09375 \r\nQ 40.234375 -1.421875 26.90625 -1.421875 \r\nQ 22.3125 -1.421875 17.546875 -0.640625 \r\nQ 12.796875 0.140625 7.71875 1.703125 \r\nL 7.71875 11.625 \r\nQ 12.109375 9.234375 16.796875 8.0625 \r\nQ 21.484375 6.890625 26.703125 6.890625 \r\nQ 35.15625 6.890625 40.078125 11.328125 \r\nQ 45.015625 15.765625 45.015625 23.390625 \r\nQ 45.015625 31 40.078125 35.4375 \r\nQ 35.15625 39.890625 26.703125 39.890625 \r\nQ 22.75 39.890625 18.8125 39.015625 \r\nQ 14.890625 38.140625 10.796875 36.28125 \r\nz\r\n\" id=\"DejaVuSans-53\"/>\r\n      </defs>\r\n      <g transform=\"translate(161.596875 339.379055)rotate(-90)scale(0.1 -0.1)\">\r\n       <use xlink:href=\"#DejaVuSans-50\"/>\r\n       <use x=\"63.623047\" xlink:href=\"#DejaVuSans-48\"/>\r\n       <use x=\"127.246094\" xlink:href=\"#DejaVuSans-49\"/>\r\n       <use x=\"190.869141\" xlink:href=\"#DejaVuSans-57\"/>\r\n       <use x=\"254.492188\" xlink:href=\"#DejaVuSans-45\"/>\r\n       <use x=\"290.576172\" xlink:href=\"#DejaVuSans-48\"/>\r\n       <use x=\"354.199219\" xlink:href=\"#DejaVuSans-53\"/>\r\n       <use x=\"417.822266\" xlink:href=\"#DejaVuSans-45\"/>\r\n       <use x=\"453.90625\" xlink:href=\"#DejaVuSans-51\"/>\r\n       <use x=\"517.529297\" xlink:href=\"#DejaVuSans-49\"/>\r\n       <use x=\"581.152344\" xlink:href=\"#DejaVuSans-32\"/>\r\n       <use x=\"612.939453\" xlink:href=\"#DejaVuSans-48\"/>\r\n       <use x=\"676.5625\" xlink:href=\"#DejaVuSans-48\"/>\r\n       <use x=\"740.185547\" xlink:href=\"#DejaVuSans-58\"/>\r\n       <use x=\"773.876953\" xlink:href=\"#DejaVuSans-48\"/>\r\n       <use x=\"837.5\" xlink:href=\"#DejaVuSans-48\"/>\r\n       <use x=\"901.123047\" xlink:href=\"#DejaVuSans-58\"/>\r\n       <use x=\"934.814453\" xlink:href=\"#DejaVuSans-48\"/>\r\n       <use x=\"998.4375\" xlink:href=\"#DejaVuSans-48\"/>\r\n      </g>\r\n     </g>\r\n    </g>\r\n    <g id=\"xtick_6\">\r\n     <g id=\"line2d_6\">\r\n      <g>\r\n       <use style=\"stroke:#000000;stroke-width:0.8;\" x=\"186.7375\" xlink:href=\"#m5de4c3cc15\" y=\"226.172805\"/>\r\n      </g>\r\n     </g>\r\n     <g id=\"text_6\">\r\n      <!-- 2019-06-30 00:00:00 -->\r\n      <defs>\r\n       <path d=\"M 33.015625 40.375 \r\nQ 26.375 40.375 22.484375 35.828125 \r\nQ 18.609375 31.296875 18.609375 23.390625 \r\nQ 18.609375 15.53125 22.484375 10.953125 \r\nQ 26.375 6.390625 33.015625 6.390625 \r\nQ 39.65625 6.390625 43.53125 10.953125 \r\nQ 47.40625 15.53125 47.40625 23.390625 \r\nQ 47.40625 31.296875 43.53125 35.828125 \r\nQ 39.65625 40.375 33.015625 40.375 \r\nz\r\nM 52.59375 71.296875 \r\nL 52.59375 62.3125 \r\nQ 48.875 64.0625 45.09375 64.984375 \r\nQ 41.3125 65.921875 37.59375 65.921875 \r\nQ 27.828125 65.921875 22.671875 59.328125 \r\nQ 17.53125 52.734375 16.796875 39.40625 \r\nQ 19.671875 43.65625 24.015625 45.921875 \r\nQ 28.375 48.1875 33.59375 48.1875 \r\nQ 44.578125 48.1875 50.953125 41.515625 \r\nQ 57.328125 34.859375 57.328125 23.390625 \r\nQ 57.328125 12.15625 50.6875 5.359375 \r\nQ 44.046875 -1.421875 33.015625 -1.421875 \r\nQ 20.359375 -1.421875 13.671875 8.265625 \r\nQ 6.984375 17.96875 6.984375 36.375 \r\nQ 6.984375 53.65625 15.1875 63.9375 \r\nQ 23.390625 74.21875 37.203125 74.21875 \r\nQ 40.921875 74.21875 44.703125 73.484375 \r\nQ 48.484375 72.75 52.59375 71.296875 \r\nz\r\n\" id=\"DejaVuSans-54\"/>\r\n      </defs>\r\n      <g transform=\"translate(189.496875 339.379055)rotate(-90)scale(0.1 -0.1)\">\r\n       <use xlink:href=\"#DejaVuSans-50\"/>\r\n       <use x=\"63.623047\" xlink:href=\"#DejaVuSans-48\"/>\r\n       <use x=\"127.246094\" xlink:href=\"#DejaVuSans-49\"/>\r\n       <use x=\"190.869141\" xlink:href=\"#DejaVuSans-57\"/>\r\n       <use x=\"254.492188\" xlink:href=\"#DejaVuSans-45\"/>\r\n       <use x=\"290.576172\" xlink:href=\"#DejaVuSans-48\"/>\r\n       <use x=\"354.199219\" xlink:href=\"#DejaVuSans-54\"/>\r\n       <use x=\"417.822266\" xlink:href=\"#DejaVuSans-45\"/>\r\n       <use x=\"453.90625\" xlink:href=\"#DejaVuSans-51\"/>\r\n       <use x=\"517.529297\" xlink:href=\"#DejaVuSans-48\"/>\r\n       <use x=\"581.152344\" xlink:href=\"#DejaVuSans-32\"/>\r\n       <use x=\"612.939453\" xlink:href=\"#DejaVuSans-48\"/>\r\n       <use x=\"676.5625\" xlink:href=\"#DejaVuSans-48\"/>\r\n       <use x=\"740.185547\" xlink:href=\"#DejaVuSans-58\"/>\r\n       <use x=\"773.876953\" xlink:href=\"#DejaVuSans-48\"/>\r\n       <use x=\"837.5\" xlink:href=\"#DejaVuSans-48\"/>\r\n       <use x=\"901.123047\" xlink:href=\"#DejaVuSans-58\"/>\r\n       <use x=\"934.814453\" xlink:href=\"#DejaVuSans-48\"/>\r\n       <use x=\"998.4375\" xlink:href=\"#DejaVuSans-48\"/>\r\n      </g>\r\n     </g>\r\n    </g>\r\n    <g id=\"xtick_7\">\r\n     <g id=\"line2d_7\">\r\n      <g>\r\n       <use style=\"stroke:#000000;stroke-width:0.8;\" x=\"214.6375\" xlink:href=\"#m5de4c3cc15\" y=\"226.172805\"/>\r\n      </g>\r\n     </g>\r\n     <g id=\"text_7\">\r\n      <!-- 2019-07-31 00:00:00 -->\r\n      <defs>\r\n       <path d=\"M 8.203125 72.90625 \r\nL 55.078125 72.90625 \r\nL 55.078125 68.703125 \r\nL 28.609375 0 \r\nL 18.3125 0 \r\nL 43.21875 64.59375 \r\nL 8.203125 64.59375 \r\nz\r\n\" id=\"DejaVuSans-55\"/>\r\n      </defs>\r\n      <g transform=\"translate(217.396875 339.379055)rotate(-90)scale(0.1 -0.1)\">\r\n       <use xlink:href=\"#DejaVuSans-50\"/>\r\n       <use x=\"63.623047\" xlink:href=\"#DejaVuSans-48\"/>\r\n       <use x=\"127.246094\" xlink:href=\"#DejaVuSans-49\"/>\r\n       <use x=\"190.869141\" xlink:href=\"#DejaVuSans-57\"/>\r\n       <use x=\"254.492188\" xlink:href=\"#DejaVuSans-45\"/>\r\n       <use x=\"290.576172\" xlink:href=\"#DejaVuSans-48\"/>\r\n       <use x=\"354.199219\" xlink:href=\"#DejaVuSans-55\"/>\r\n       <use x=\"417.822266\" xlink:href=\"#DejaVuSans-45\"/>\r\n       <use x=\"453.90625\" xlink:href=\"#DejaVuSans-51\"/>\r\n       <use x=\"517.529297\" xlink:href=\"#DejaVuSans-49\"/>\r\n       <use x=\"581.152344\" xlink:href=\"#DejaVuSans-32\"/>\r\n       <use x=\"612.939453\" xlink:href=\"#DejaVuSans-48\"/>\r\n       <use x=\"676.5625\" xlink:href=\"#DejaVuSans-48\"/>\r\n       <use x=\"740.185547\" xlink:href=\"#DejaVuSans-58\"/>\r\n       <use x=\"773.876953\" xlink:href=\"#DejaVuSans-48\"/>\r\n       <use x=\"837.5\" xlink:href=\"#DejaVuSans-48\"/>\r\n       <use x=\"901.123047\" xlink:href=\"#DejaVuSans-58\"/>\r\n       <use x=\"934.814453\" xlink:href=\"#DejaVuSans-48\"/>\r\n       <use x=\"998.4375\" xlink:href=\"#DejaVuSans-48\"/>\r\n      </g>\r\n     </g>\r\n    </g>\r\n    <g id=\"xtick_8\">\r\n     <g id=\"line2d_8\">\r\n      <g>\r\n       <use style=\"stroke:#000000;stroke-width:0.8;\" x=\"242.5375\" xlink:href=\"#m5de4c3cc15\" y=\"226.172805\"/>\r\n      </g>\r\n     </g>\r\n     <g id=\"text_8\">\r\n      <!-- 2019-08-31 00:00:00 -->\r\n      <g transform=\"translate(245.296875 339.379055)rotate(-90)scale(0.1 -0.1)\">\r\n       <use xlink:href=\"#DejaVuSans-50\"/>\r\n       <use x=\"63.623047\" xlink:href=\"#DejaVuSans-48\"/>\r\n       <use x=\"127.246094\" xlink:href=\"#DejaVuSans-49\"/>\r\n       <use x=\"190.869141\" xlink:href=\"#DejaVuSans-57\"/>\r\n       <use x=\"254.492188\" xlink:href=\"#DejaVuSans-45\"/>\r\n       <use x=\"290.576172\" xlink:href=\"#DejaVuSans-48\"/>\r\n       <use x=\"354.199219\" xlink:href=\"#DejaVuSans-56\"/>\r\n       <use x=\"417.822266\" xlink:href=\"#DejaVuSans-45\"/>\r\n       <use x=\"453.90625\" xlink:href=\"#DejaVuSans-51\"/>\r\n       <use x=\"517.529297\" xlink:href=\"#DejaVuSans-49\"/>\r\n       <use x=\"581.152344\" xlink:href=\"#DejaVuSans-32\"/>\r\n       <use x=\"612.939453\" xlink:href=\"#DejaVuSans-48\"/>\r\n       <use x=\"676.5625\" xlink:href=\"#DejaVuSans-48\"/>\r\n       <use x=\"740.185547\" xlink:href=\"#DejaVuSans-58\"/>\r\n       <use x=\"773.876953\" xlink:href=\"#DejaVuSans-48\"/>\r\n       <use x=\"837.5\" xlink:href=\"#DejaVuSans-48\"/>\r\n       <use x=\"901.123047\" xlink:href=\"#DejaVuSans-58\"/>\r\n       <use x=\"934.814453\" xlink:href=\"#DejaVuSans-48\"/>\r\n       <use x=\"998.4375\" xlink:href=\"#DejaVuSans-48\"/>\r\n      </g>\r\n     </g>\r\n    </g>\r\n    <g id=\"xtick_9\">\r\n     <g id=\"line2d_9\">\r\n      <g>\r\n       <use style=\"stroke:#000000;stroke-width:0.8;\" x=\"270.4375\" xlink:href=\"#m5de4c3cc15\" y=\"226.172805\"/>\r\n      </g>\r\n     </g>\r\n     <g id=\"text_9\">\r\n      <!-- 2019-09-30 00:00:00 -->\r\n      <g transform=\"translate(273.196875 339.379055)rotate(-90)scale(0.1 -0.1)\">\r\n       <use xlink:href=\"#DejaVuSans-50\"/>\r\n       <use x=\"63.623047\" xlink:href=\"#DejaVuSans-48\"/>\r\n       <use x=\"127.246094\" xlink:href=\"#DejaVuSans-49\"/>\r\n       <use x=\"190.869141\" xlink:href=\"#DejaVuSans-57\"/>\r\n       <use x=\"254.492188\" xlink:href=\"#DejaVuSans-45\"/>\r\n       <use x=\"290.576172\" xlink:href=\"#DejaVuSans-48\"/>\r\n       <use x=\"354.199219\" xlink:href=\"#DejaVuSans-57\"/>\r\n       <use x=\"417.822266\" xlink:href=\"#DejaVuSans-45\"/>\r\n       <use x=\"453.90625\" xlink:href=\"#DejaVuSans-51\"/>\r\n       <use x=\"517.529297\" xlink:href=\"#DejaVuSans-48\"/>\r\n       <use x=\"581.152344\" xlink:href=\"#DejaVuSans-32\"/>\r\n       <use x=\"612.939453\" xlink:href=\"#DejaVuSans-48\"/>\r\n       <use x=\"676.5625\" xlink:href=\"#DejaVuSans-48\"/>\r\n       <use x=\"740.185547\" xlink:href=\"#DejaVuSans-58\"/>\r\n       <use x=\"773.876953\" xlink:href=\"#DejaVuSans-48\"/>\r\n       <use x=\"837.5\" xlink:href=\"#DejaVuSans-48\"/>\r\n       <use x=\"901.123047\" xlink:href=\"#DejaVuSans-58\"/>\r\n       <use x=\"934.814453\" xlink:href=\"#DejaVuSans-48\"/>\r\n       <use x=\"998.4375\" xlink:href=\"#DejaVuSans-48\"/>\r\n      </g>\r\n     </g>\r\n    </g>\r\n    <g id=\"xtick_10\">\r\n     <g id=\"line2d_10\">\r\n      <g>\r\n       <use style=\"stroke:#000000;stroke-width:0.8;\" x=\"298.3375\" xlink:href=\"#m5de4c3cc15\" y=\"226.172805\"/>\r\n      </g>\r\n     </g>\r\n     <g id=\"text_10\">\r\n      <!-- 2019-10-31 00:00:00 -->\r\n      <g transform=\"translate(301.096875 339.379055)rotate(-90)scale(0.1 -0.1)\">\r\n       <use xlink:href=\"#DejaVuSans-50\"/>\r\n       <use x=\"63.623047\" xlink:href=\"#DejaVuSans-48\"/>\r\n       <use x=\"127.246094\" xlink:href=\"#DejaVuSans-49\"/>\r\n       <use x=\"190.869141\" xlink:href=\"#DejaVuSans-57\"/>\r\n       <use x=\"254.492188\" xlink:href=\"#DejaVuSans-45\"/>\r\n       <use x=\"290.576172\" xlink:href=\"#DejaVuSans-49\"/>\r\n       <use x=\"354.199219\" xlink:href=\"#DejaVuSans-48\"/>\r\n       <use x=\"417.822266\" xlink:href=\"#DejaVuSans-45\"/>\r\n       <use x=\"453.90625\" xlink:href=\"#DejaVuSans-51\"/>\r\n       <use x=\"517.529297\" xlink:href=\"#DejaVuSans-49\"/>\r\n       <use x=\"581.152344\" xlink:href=\"#DejaVuSans-32\"/>\r\n       <use x=\"612.939453\" xlink:href=\"#DejaVuSans-48\"/>\r\n       <use x=\"676.5625\" xlink:href=\"#DejaVuSans-48\"/>\r\n       <use x=\"740.185547\" xlink:href=\"#DejaVuSans-58\"/>\r\n       <use x=\"773.876953\" xlink:href=\"#DejaVuSans-48\"/>\r\n       <use x=\"837.5\" xlink:href=\"#DejaVuSans-48\"/>\r\n       <use x=\"901.123047\" xlink:href=\"#DejaVuSans-58\"/>\r\n       <use x=\"934.814453\" xlink:href=\"#DejaVuSans-48\"/>\r\n       <use x=\"998.4375\" xlink:href=\"#DejaVuSans-48\"/>\r\n      </g>\r\n     </g>\r\n    </g>\r\n    <g id=\"xtick_11\">\r\n     <g id=\"line2d_11\">\r\n      <g>\r\n       <use style=\"stroke:#000000;stroke-width:0.8;\" x=\"326.2375\" xlink:href=\"#m5de4c3cc15\" y=\"226.172805\"/>\r\n      </g>\r\n     </g>\r\n     <g id=\"text_11\">\r\n      <!-- 2019-11-30 00:00:00 -->\r\n      <g transform=\"translate(328.996875 339.379055)rotate(-90)scale(0.1 -0.1)\">\r\n       <use xlink:href=\"#DejaVuSans-50\"/>\r\n       <use x=\"63.623047\" xlink:href=\"#DejaVuSans-48\"/>\r\n       <use x=\"127.246094\" xlink:href=\"#DejaVuSans-49\"/>\r\n       <use x=\"190.869141\" xlink:href=\"#DejaVuSans-57\"/>\r\n       <use x=\"254.492188\" xlink:href=\"#DejaVuSans-45\"/>\r\n       <use x=\"290.576172\" xlink:href=\"#DejaVuSans-49\"/>\r\n       <use x=\"354.199219\" xlink:href=\"#DejaVuSans-49\"/>\r\n       <use x=\"417.822266\" xlink:href=\"#DejaVuSans-45\"/>\r\n       <use x=\"453.90625\" xlink:href=\"#DejaVuSans-51\"/>\r\n       <use x=\"517.529297\" xlink:href=\"#DejaVuSans-48\"/>\r\n       <use x=\"581.152344\" xlink:href=\"#DejaVuSans-32\"/>\r\n       <use x=\"612.939453\" xlink:href=\"#DejaVuSans-48\"/>\r\n       <use x=\"676.5625\" xlink:href=\"#DejaVuSans-48\"/>\r\n       <use x=\"740.185547\" xlink:href=\"#DejaVuSans-58\"/>\r\n       <use x=\"773.876953\" xlink:href=\"#DejaVuSans-48\"/>\r\n       <use x=\"837.5\" xlink:href=\"#DejaVuSans-48\"/>\r\n       <use x=\"901.123047\" xlink:href=\"#DejaVuSans-58\"/>\r\n       <use x=\"934.814453\" xlink:href=\"#DejaVuSans-48\"/>\r\n       <use x=\"998.4375\" xlink:href=\"#DejaVuSans-48\"/>\r\n      </g>\r\n     </g>\r\n    </g>\r\n    <g id=\"xtick_12\">\r\n     <g id=\"line2d_12\">\r\n      <g>\r\n       <use style=\"stroke:#000000;stroke-width:0.8;\" x=\"354.1375\" xlink:href=\"#m5de4c3cc15\" y=\"226.172805\"/>\r\n      </g>\r\n     </g>\r\n     <g id=\"text_12\">\r\n      <!-- 2019-12-31 00:00:00 -->\r\n      <g transform=\"translate(356.896875 339.379055)rotate(-90)scale(0.1 -0.1)\">\r\n       <use xlink:href=\"#DejaVuSans-50\"/>\r\n       <use x=\"63.623047\" xlink:href=\"#DejaVuSans-48\"/>\r\n       <use x=\"127.246094\" xlink:href=\"#DejaVuSans-49\"/>\r\n       <use x=\"190.869141\" xlink:href=\"#DejaVuSans-57\"/>\r\n       <use x=\"254.492188\" xlink:href=\"#DejaVuSans-45\"/>\r\n       <use x=\"290.576172\" xlink:href=\"#DejaVuSans-49\"/>\r\n       <use x=\"354.199219\" xlink:href=\"#DejaVuSans-50\"/>\r\n       <use x=\"417.822266\" xlink:href=\"#DejaVuSans-45\"/>\r\n       <use x=\"453.90625\" xlink:href=\"#DejaVuSans-51\"/>\r\n       <use x=\"517.529297\" xlink:href=\"#DejaVuSans-49\"/>\r\n       <use x=\"581.152344\" xlink:href=\"#DejaVuSans-32\"/>\r\n       <use x=\"612.939453\" xlink:href=\"#DejaVuSans-48\"/>\r\n       <use x=\"676.5625\" xlink:href=\"#DejaVuSans-48\"/>\r\n       <use x=\"740.185547\" xlink:href=\"#DejaVuSans-58\"/>\r\n       <use x=\"773.876953\" xlink:href=\"#DejaVuSans-48\"/>\r\n       <use x=\"837.5\" xlink:href=\"#DejaVuSans-48\"/>\r\n       <use x=\"901.123047\" xlink:href=\"#DejaVuSans-58\"/>\r\n       <use x=\"934.814453\" xlink:href=\"#DejaVuSans-48\"/>\r\n       <use x=\"998.4375\" xlink:href=\"#DejaVuSans-48\"/>\r\n      </g>\r\n     </g>\r\n    </g>\r\n    <g id=\"text_13\">\r\n     <!-- Date -->\r\n     <defs>\r\n      <path d=\"M 19.671875 64.796875 \r\nL 19.671875 8.109375 \r\nL 31.59375 8.109375 \r\nQ 46.6875 8.109375 53.6875 14.9375 \r\nQ 60.6875 21.78125 60.6875 36.53125 \r\nQ 60.6875 51.171875 53.6875 57.984375 \r\nQ 46.6875 64.796875 31.59375 64.796875 \r\nz\r\nM 9.8125 72.90625 \r\nL 30.078125 72.90625 \r\nQ 51.265625 72.90625 61.171875 64.09375 \r\nQ 71.09375 55.28125 71.09375 36.53125 \r\nQ 71.09375 17.671875 61.125 8.828125 \r\nQ 51.171875 0 30.078125 0 \r\nL 9.8125 0 \r\nz\r\n\" id=\"DejaVuSans-68\"/>\r\n      <path d=\"M 34.28125 27.484375 \r\nQ 23.390625 27.484375 19.1875 25 \r\nQ 14.984375 22.515625 14.984375 16.5 \r\nQ 14.984375 11.71875 18.140625 8.90625 \r\nQ 21.296875 6.109375 26.703125 6.109375 \r\nQ 34.1875 6.109375 38.703125 11.40625 \r\nQ 43.21875 16.703125 43.21875 25.484375 \r\nL 43.21875 27.484375 \r\nz\r\nM 52.203125 31.203125 \r\nL 52.203125 0 \r\nL 43.21875 0 \r\nL 43.21875 8.296875 \r\nQ 40.140625 3.328125 35.546875 0.953125 \r\nQ 30.953125 -1.421875 24.3125 -1.421875 \r\nQ 15.921875 -1.421875 10.953125 3.296875 \r\nQ 6 8.015625 6 15.921875 \r\nQ 6 25.140625 12.171875 29.828125 \r\nQ 18.359375 34.515625 30.609375 34.515625 \r\nL 43.21875 34.515625 \r\nL 43.21875 35.40625 \r\nQ 43.21875 41.609375 39.140625 45 \r\nQ 35.0625 48.390625 27.6875 48.390625 \r\nQ 23 48.390625 18.546875 47.265625 \r\nQ 14.109375 46.140625 10.015625 43.890625 \r\nL 10.015625 52.203125 \r\nQ 14.9375 54.109375 19.578125 55.046875 \r\nQ 24.21875 56 28.609375 56 \r\nQ 40.484375 56 46.34375 49.84375 \r\nQ 52.203125 43.703125 52.203125 31.203125 \r\nz\r\n\" id=\"DejaVuSans-97\"/>\r\n      <path d=\"M 18.3125 70.21875 \r\nL 18.3125 54.6875 \r\nL 36.8125 54.6875 \r\nL 36.8125 47.703125 \r\nL 18.3125 47.703125 \r\nL 18.3125 18.015625 \r\nQ 18.3125 11.328125 20.140625 9.421875 \r\nQ 21.96875 7.515625 27.59375 7.515625 \r\nL 36.8125 7.515625 \r\nL 36.8125 0 \r\nL 27.59375 0 \r\nQ 17.1875 0 13.234375 3.875 \r\nQ 9.28125 7.765625 9.28125 18.015625 \r\nL 9.28125 47.703125 \r\nL 2.6875 47.703125 \r\nL 2.6875 54.6875 \r\nL 9.28125 54.6875 \r\nL 9.28125 70.21875 \r\nz\r\n\" id=\"DejaVuSans-116\"/>\r\n      <path d=\"M 56.203125 29.59375 \r\nL 56.203125 25.203125 \r\nL 14.890625 25.203125 \r\nQ 15.484375 15.921875 20.484375 11.0625 \r\nQ 25.484375 6.203125 34.421875 6.203125 \r\nQ 39.59375 6.203125 44.453125 7.46875 \r\nQ 49.3125 8.734375 54.109375 11.28125 \r\nL 54.109375 2.78125 \r\nQ 49.265625 0.734375 44.1875 -0.34375 \r\nQ 39.109375 -1.421875 33.890625 -1.421875 \r\nQ 20.796875 -1.421875 13.15625 6.1875 \r\nQ 5.515625 13.8125 5.515625 26.8125 \r\nQ 5.515625 40.234375 12.765625 48.109375 \r\nQ 20.015625 56 32.328125 56 \r\nQ 43.359375 56 49.78125 48.890625 \r\nQ 56.203125 41.796875 56.203125 29.59375 \r\nz\r\nM 47.21875 32.234375 \r\nQ 47.125 39.59375 43.09375 43.984375 \r\nQ 39.0625 48.390625 32.421875 48.390625 \r\nQ 24.90625 48.390625 20.390625 44.140625 \r\nQ 15.875 39.890625 15.1875 32.171875 \r\nz\r\n\" id=\"DejaVuSans-101\"/>\r\n     </defs>\r\n     <g transform=\"translate(188.736719 350.977493)scale(0.1 -0.1)\">\r\n      <use xlink:href=\"#DejaVuSans-68\"/>\r\n      <use x=\"77.001953\" xlink:href=\"#DejaVuSans-97\"/>\r\n      <use x=\"138.28125\" xlink:href=\"#DejaVuSans-116\"/>\r\n      <use x=\"177.490234\" xlink:href=\"#DejaVuSans-101\"/>\r\n     </g>\r\n    </g>\r\n   </g>\r\n   <g id=\"matplotlib.axis_2\">\r\n    <g id=\"ytick_1\">\r\n     <g id=\"line2d_13\">\r\n      <defs>\r\n       <path d=\"M 0 0 \r\nL -3.5 0 \r\n\" id=\"mcf272887c4\" style=\"stroke:#000000;stroke-width:0.8;\"/>\r\n      </defs>\r\n      <g>\r\n       <use style=\"stroke:#000000;stroke-width:0.8;\" x=\"33.2875\" xlink:href=\"#mcf272887c4\" y=\"226.172805\"/>\r\n      </g>\r\n     </g>\r\n     <g id=\"text_14\">\r\n      <!-- 0 -->\r\n      <g transform=\"translate(19.925 229.972024)scale(0.1 -0.1)\">\r\n       <use xlink:href=\"#DejaVuSans-48\"/>\r\n      </g>\r\n     </g>\r\n    </g>\r\n    <g id=\"ytick_2\">\r\n     <g id=\"line2d_14\">\r\n      <g>\r\n       <use style=\"stroke:#000000;stroke-width:0.8;\" x=\"33.2875\" xlink:href=\"#mcf272887c4\" y=\"195.433721\"/>\r\n      </g>\r\n     </g>\r\n     <g id=\"text_15\">\r\n      <!-- 20 -->\r\n      <g transform=\"translate(13.5625 199.23294)scale(0.1 -0.1)\">\r\n       <use xlink:href=\"#DejaVuSans-50\"/>\r\n       <use x=\"63.623047\" xlink:href=\"#DejaVuSans-48\"/>\r\n      </g>\r\n     </g>\r\n    </g>\r\n    <g id=\"ytick_3\">\r\n     <g id=\"line2d_15\">\r\n      <g>\r\n       <use style=\"stroke:#000000;stroke-width:0.8;\" x=\"33.2875\" xlink:href=\"#mcf272887c4\" y=\"164.694638\"/>\r\n      </g>\r\n     </g>\r\n     <g id=\"text_16\">\r\n      <!-- 40 -->\r\n      <g transform=\"translate(13.5625 168.493856)scale(0.1 -0.1)\">\r\n       <use xlink:href=\"#DejaVuSans-52\"/>\r\n       <use x=\"63.623047\" xlink:href=\"#DejaVuSans-48\"/>\r\n      </g>\r\n     </g>\r\n    </g>\r\n    <g id=\"ytick_4\">\r\n     <g id=\"line2d_16\">\r\n      <g>\r\n       <use style=\"stroke:#000000;stroke-width:0.8;\" x=\"33.2875\" xlink:href=\"#mcf272887c4\" y=\"133.955554\"/>\r\n      </g>\r\n     </g>\r\n     <g id=\"text_17\">\r\n      <!-- 60 -->\r\n      <g transform=\"translate(13.5625 137.754773)scale(0.1 -0.1)\">\r\n       <use xlink:href=\"#DejaVuSans-54\"/>\r\n       <use x=\"63.623047\" xlink:href=\"#DejaVuSans-48\"/>\r\n      </g>\r\n     </g>\r\n    </g>\r\n    <g id=\"ytick_5\">\r\n     <g id=\"line2d_17\">\r\n      <g>\r\n       <use style=\"stroke:#000000;stroke-width:0.8;\" x=\"33.2875\" xlink:href=\"#mcf272887c4\" y=\"103.21647\"/>\r\n      </g>\r\n     </g>\r\n     <g id=\"text_18\">\r\n      <!-- 80 -->\r\n      <g transform=\"translate(13.5625 107.015689)scale(0.1 -0.1)\">\r\n       <use xlink:href=\"#DejaVuSans-56\"/>\r\n       <use x=\"63.623047\" xlink:href=\"#DejaVuSans-48\"/>\r\n      </g>\r\n     </g>\r\n    </g>\r\n    <g id=\"ytick_6\">\r\n     <g id=\"line2d_18\">\r\n      <g>\r\n       <use style=\"stroke:#000000;stroke-width:0.8;\" x=\"33.2875\" xlink:href=\"#mcf272887c4\" y=\"72.477386\"/>\r\n      </g>\r\n     </g>\r\n     <g id=\"text_19\">\r\n      <!-- 100 -->\r\n      <g transform=\"translate(7.2 76.276605)scale(0.1 -0.1)\">\r\n       <use xlink:href=\"#DejaVuSans-49\"/>\r\n       <use x=\"63.623047\" xlink:href=\"#DejaVuSans-48\"/>\r\n       <use x=\"127.246094\" xlink:href=\"#DejaVuSans-48\"/>\r\n      </g>\r\n     </g>\r\n    </g>\r\n    <g id=\"ytick_7\">\r\n     <g id=\"line2d_19\">\r\n      <g>\r\n       <use style=\"stroke:#000000;stroke-width:0.8;\" x=\"33.2875\" xlink:href=\"#mcf272887c4\" y=\"41.738303\"/>\r\n      </g>\r\n     </g>\r\n     <g id=\"text_20\">\r\n      <!-- 120 -->\r\n      <g transform=\"translate(7.2 45.537521)scale(0.1 -0.1)\">\r\n       <use xlink:href=\"#DejaVuSans-49\"/>\r\n       <use x=\"63.623047\" xlink:href=\"#DejaVuSans-50\"/>\r\n       <use x=\"127.246094\" xlink:href=\"#DejaVuSans-48\"/>\r\n      </g>\r\n     </g>\r\n    </g>\r\n    <g id=\"ytick_8\">\r\n     <g id=\"line2d_20\">\r\n      <g>\r\n       <use style=\"stroke:#000000;stroke-width:0.8;\" x=\"33.2875\" xlink:href=\"#mcf272887c4\" y=\"10.999219\"/>\r\n      </g>\r\n     </g>\r\n     <g id=\"text_21\">\r\n      <!-- 140 -->\r\n      <g transform=\"translate(7.2 14.798437)scale(0.1 -0.1)\">\r\n       <use xlink:href=\"#DejaVuSans-49\"/>\r\n       <use x=\"63.623047\" xlink:href=\"#DejaVuSans-52\"/>\r\n       <use x=\"127.246094\" xlink:href=\"#DejaVuSans-48\"/>\r\n      </g>\r\n     </g>\r\n    </g>\r\n   </g>\r\n   <g id=\"patch_27\">\r\n    <path d=\"M 33.2875 226.172805 \r\nL 33.2875 8.732805 \r\n\" style=\"fill:none;stroke:#000000;stroke-linecap:square;stroke-linejoin:miter;stroke-width:0.8;\"/>\r\n   </g>\r\n   <g id=\"patch_28\">\r\n    <path d=\"M 368.0875 226.172805 \r\nL 368.0875 8.732805 \r\n\" style=\"fill:none;stroke:#000000;stroke-linecap:square;stroke-linejoin:miter;stroke-width:0.8;\"/>\r\n   </g>\r\n   <g id=\"patch_29\">\r\n    <path d=\"M 33.2875 226.172805 \r\nL 368.0875 226.172805 \r\n\" style=\"fill:none;stroke:#000000;stroke-linecap:square;stroke-linejoin:miter;stroke-width:0.8;\"/>\r\n   </g>\r\n   <g id=\"patch_30\">\r\n    <path d=\"M 33.2875 8.732805 \r\nL 368.0875 8.732805 \r\n\" style=\"fill:none;stroke:#000000;stroke-linecap:square;stroke-linejoin:miter;stroke-width:0.8;\"/>\r\n   </g>\r\n   <g id=\"legend_1\">\r\n    <g id=\"patch_31\">\r\n     <path d=\"M 311.246875 46.089055 \r\nL 361.0875 46.089055 \r\nQ 363.0875 46.089055 363.0875 44.089055 \r\nL 363.0875 15.732805 \r\nQ 363.0875 13.732805 361.0875 13.732805 \r\nL 311.246875 13.732805 \r\nQ 309.246875 13.732805 309.246875 15.732805 \r\nL 309.246875 44.089055 \r\nQ 309.246875 46.089055 311.246875 46.089055 \r\nz\r\n\" style=\"fill:#ffffff;opacity:0.8;stroke:#cccccc;stroke-linejoin:miter;\"/>\r\n    </g>\r\n    <g id=\"patch_32\">\r\n     <path d=\"M 313.246875 25.331243 \r\nL 333.246875 25.331243 \r\nL 333.246875 18.331243 \r\nL 313.246875 18.331243 \r\nz\r\n\" style=\"fill:#1f77b4;\"/>\r\n    </g>\r\n    <g id=\"text_22\">\r\n     <!-- Ask -->\r\n     <defs>\r\n      <path d=\"M 34.1875 63.1875 \r\nL 20.796875 26.90625 \r\nL 47.609375 26.90625 \r\nz\r\nM 28.609375 72.90625 \r\nL 39.796875 72.90625 \r\nL 67.578125 0 \r\nL 57.328125 0 \r\nL 50.6875 18.703125 \r\nL 17.828125 18.703125 \r\nL 11.1875 0 \r\nL 0.78125 0 \r\nz\r\n\" id=\"DejaVuSans-65\"/>\r\n      <path d=\"M 44.28125 53.078125 \r\nL 44.28125 44.578125 \r\nQ 40.484375 46.53125 36.375 47.5 \r\nQ 32.28125 48.484375 27.875 48.484375 \r\nQ 21.1875 48.484375 17.84375 46.4375 \r\nQ 14.5 44.390625 14.5 40.28125 \r\nQ 14.5 37.15625 16.890625 35.375 \r\nQ 19.28125 33.59375 26.515625 31.984375 \r\nL 29.59375 31.296875 \r\nQ 39.15625 29.25 43.1875 25.515625 \r\nQ 47.21875 21.78125 47.21875 15.09375 \r\nQ 47.21875 7.46875 41.1875 3.015625 \r\nQ 35.15625 -1.421875 24.609375 -1.421875 \r\nQ 20.21875 -1.421875 15.453125 -0.5625 \r\nQ 10.6875 0.296875 5.421875 2 \r\nL 5.421875 11.28125 \r\nQ 10.40625 8.6875 15.234375 7.390625 \r\nQ 20.0625 6.109375 24.8125 6.109375 \r\nQ 31.15625 6.109375 34.5625 8.28125 \r\nQ 37.984375 10.453125 37.984375 14.40625 \r\nQ 37.984375 18.0625 35.515625 20.015625 \r\nQ 33.0625 21.96875 24.703125 23.78125 \r\nL 21.578125 24.515625 \r\nQ 13.234375 26.265625 9.515625 29.90625 \r\nQ 5.8125 33.546875 5.8125 39.890625 \r\nQ 5.8125 47.609375 11.28125 51.796875 \r\nQ 16.75 56 26.8125 56 \r\nQ 31.78125 56 36.171875 55.265625 \r\nQ 40.578125 54.546875 44.28125 53.078125 \r\nz\r\n\" id=\"DejaVuSans-115\"/>\r\n      <path d=\"M 9.078125 75.984375 \r\nL 18.109375 75.984375 \r\nL 18.109375 31.109375 \r\nL 44.921875 54.6875 \r\nL 56.390625 54.6875 \r\nL 27.390625 29.109375 \r\nL 57.625 0 \r\nL 45.90625 0 \r\nL 18.109375 26.703125 \r\nL 18.109375 0 \r\nL 9.078125 0 \r\nz\r\n\" id=\"DejaVuSans-107\"/>\r\n     </defs>\r\n     <g transform=\"translate(341.246875 25.331243)scale(0.1 -0.1)\">\r\n      <use xlink:href=\"#DejaVuSans-65\"/>\r\n      <use x=\"68.408203\" xlink:href=\"#DejaVuSans-115\"/>\r\n      <use x=\"120.507812\" xlink:href=\"#DejaVuSans-107\"/>\r\n     </g>\r\n    </g>\r\n    <g id=\"patch_33\">\r\n     <path d=\"M 313.246875 40.009368 \r\nL 333.246875 40.009368 \r\nL 333.246875 33.009368 \r\nL 313.246875 33.009368 \r\nz\r\n\" style=\"fill:#ff7f0e;\"/>\r\n    </g>\r\n    <g id=\"text_23\">\r\n     <!-- Bid -->\r\n     <defs>\r\n      <path d=\"M 19.671875 34.8125 \r\nL 19.671875 8.109375 \r\nL 35.5 8.109375 \r\nQ 43.453125 8.109375 47.28125 11.40625 \r\nQ 51.125 14.703125 51.125 21.484375 \r\nQ 51.125 28.328125 47.28125 31.5625 \r\nQ 43.453125 34.8125 35.5 34.8125 \r\nz\r\nM 19.671875 64.796875 \r\nL 19.671875 42.828125 \r\nL 34.28125 42.828125 \r\nQ 41.5 42.828125 45.03125 45.53125 \r\nQ 48.578125 48.25 48.578125 53.8125 \r\nQ 48.578125 59.328125 45.03125 62.0625 \r\nQ 41.5 64.796875 34.28125 64.796875 \r\nz\r\nM 9.8125 72.90625 \r\nL 35.015625 72.90625 \r\nQ 46.296875 72.90625 52.390625 68.21875 \r\nQ 58.5 63.53125 58.5 54.890625 \r\nQ 58.5 48.1875 55.375 44.234375 \r\nQ 52.25 40.28125 46.1875 39.3125 \r\nQ 53.46875 37.75 57.5 32.78125 \r\nQ 61.53125 27.828125 61.53125 20.40625 \r\nQ 61.53125 10.640625 54.890625 5.3125 \r\nQ 48.25 0 35.984375 0 \r\nL 9.8125 0 \r\nz\r\n\" id=\"DejaVuSans-66\"/>\r\n      <path d=\"M 9.421875 54.6875 \r\nL 18.40625 54.6875 \r\nL 18.40625 0 \r\nL 9.421875 0 \r\nz\r\nM 9.421875 75.984375 \r\nL 18.40625 75.984375 \r\nL 18.40625 64.59375 \r\nL 9.421875 64.59375 \r\nz\r\n\" id=\"DejaVuSans-105\"/>\r\n      <path d=\"M 45.40625 46.390625 \r\nL 45.40625 75.984375 \r\nL 54.390625 75.984375 \r\nL 54.390625 0 \r\nL 45.40625 0 \r\nL 45.40625 8.203125 \r\nQ 42.578125 3.328125 38.25 0.953125 \r\nQ 33.9375 -1.421875 27.875 -1.421875 \r\nQ 17.96875 -1.421875 11.734375 6.484375 \r\nQ 5.515625 14.40625 5.515625 27.296875 \r\nQ 5.515625 40.1875 11.734375 48.09375 \r\nQ 17.96875 56 27.875 56 \r\nQ 33.9375 56 38.25 53.625 \r\nQ 42.578125 51.265625 45.40625 46.390625 \r\nz\r\nM 14.796875 27.296875 \r\nQ 14.796875 17.390625 18.875 11.75 \r\nQ 22.953125 6.109375 30.078125 6.109375 \r\nQ 37.203125 6.109375 41.296875 11.75 \r\nQ 45.40625 17.390625 45.40625 27.296875 \r\nQ 45.40625 37.203125 41.296875 42.84375 \r\nQ 37.203125 48.484375 30.078125 48.484375 \r\nQ 22.953125 48.484375 18.875 42.84375 \r\nQ 14.796875 37.203125 14.796875 27.296875 \r\nz\r\n\" id=\"DejaVuSans-100\"/>\r\n     </defs>\r\n     <g transform=\"translate(341.246875 40.009368)scale(0.1 -0.1)\">\r\n      <use xlink:href=\"#DejaVuSans-66\"/>\r\n      <use x=\"68.603516\" xlink:href=\"#DejaVuSans-105\"/>\r\n      <use x=\"96.386719\" xlink:href=\"#DejaVuSans-100\"/>\r\n     </g>\r\n    </g>\r\n   </g>\r\n  </g>\r\n </g>\r\n <defs>\r\n  <clipPath id=\"pe1ef38b9ca\">\r\n   <rect height=\"217.44\" width=\"334.8\" x=\"33.2875\" y=\"8.732805\"/>\r\n  </clipPath>\r\n </defs>\r\n</svg>\r\n",
      "image/png": "[encoded data removed]"
     },
     "metadata": {
      "needs_background": "light"
     }
    }
   ],
   "source": [
    "df.plot(kind ='bar')"
   ]
  }
 ],
 "metadata": {
  "language_info": {
   "codemirror_mode": {
    "name": "ipython",
    "version": 3
   },
   "file_extension": ".py",
   "mimetype": "text/x-python",
   "name": "python",
   "nbconvert_exporter": "python",
   "pygments_lexer": "ipython3",
   "version": "3.7.0-final"
  },
  "orig_nbformat": 2,
  "kernelspec": {
   "name": "soup",
   "display_name": "soup"
  }
 },
 "nbformat": 4,
 "nbformat_minor": 2
}