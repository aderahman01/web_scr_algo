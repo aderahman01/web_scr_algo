{
 "cells": [
  {
   "cell_type": "markdown",
   "metadata": {},
   "source": [
    "## Importing library required for web scrapping "
   ]
  },
  {
   "cell_type": "code",
   "execution_count": 1,
   "metadata": {},
   "outputs": [],
   "source": [
    "from flask import Flask, render_template \n",
    "import pandas as pd\n",
    "import requests\n",
    "from bs4 import BeautifulSoup \n",
    "from io import BytesIO\n",
    "import base64\n",
    "import matplotlib.pyplot as plt"
   ]
  },
  {
   "cell_type": "markdown",
   "metadata": {},
   "source": [
    "### Get the URL for the web scrapping \n",
    "\n",
    "On this project, I am tryng to analyze the Kurs Jual and Kurs beli (ask and bid) that the data will be taken from site monexnews. \n",
    "We will use beautifulSoup for parsing the data "
   ]
  },
  {
   "cell_type": "code",
   "execution_count": 2,
   "metadata": {},
   "outputs": [],
   "source": [
    "url_get = requests.get('https://monexnews.com/kurs-valuta-asing.htm?kurs=JPY&searchdatefrom=01-01-2019&searchdateto=30-12-2019')\n",
    "soup = BeautifulSoup(url_get.content,\"html.parser\")"
   ]
  },
  {
   "cell_type": "markdown",
   "metadata": {},
   "source": [
    "### Check the data type"
   ]
  },
  {
   "cell_type": "code",
   "execution_count": 3,
   "metadata": {},
   "outputs": [
    {
     "output_type": "stream",
     "name": "stdout",
     "text": "<class 'bs4.BeautifulSoup'>\n"
    }
   ],
   "source": [
    "print(type(soup))"
   ]
  },
  {
   "cell_type": "markdown",
   "metadata": {},
   "source": [
    "Let's check and show the scrapped data using beautysoup"
   ]
  },
  {
   "cell_type": "code",
   "execution_count": 4,
   "metadata": {},
   "outputs": [
    {
     "output_type": "stream",
     "name": "stdout",
     "text": "<!DOCTYPE html PUBLIC \"-//W3C//DTD XHTML 1.0 Transitional//EN\" \"http://www.w3.org/TR/xhtml1/DTD/xhtml1-transitional.dtd\">\n<html xmlns=\"http://www.w3.org/1999/xhtml\">\n <head>\n  <meta content=\"en,in\" http-equiv=\"Content-Language\"/>\n  <link href=\"https://monexnews.com/kurs-valuta-asing.php\" hreflang=\"en-ID\" rel=\"alternate\"/>\n  <base href=\"https://monexnews.com/\" target=\"_self\"/>\n  <title>\n   Kurs Yen Jepang | JPY | Harga Nilai Tukar Yen Hari Ini | Monexnews\n  </title>\n  <meta content=\"Kurs yen jepang JPY, nilai tukar rupiah terhadap harga yen hari ini berdasar kurs tengah BI, Bank Indonesia. \" name=\"description\"/>\n  <meta content=\"Kurs yen, jpy, nilai tukar yen, monexnews\" name=\"keywords\"/>\n  <meta content=\"favicon.jpg\" property=\"og:image\"/>\n  <meta content=\"Ultimaengine.com\" name=\"author\"/>\n  <meta content=\"follow, index\" name=\"robots\"/>\n  <meta content=\"7 days\" name=\"revisit-after\"/>\n  <meta content=\"width=device-width, initial-scale=1.0\" name=\"viewport\"/>\n  <meta content=\"M7NOlgqcEadhlLSiEssmvNI08vl1BowAztIyERgEgMQ\" name=\"google-\n"
    }
   ],
   "source": [
    "print(soup.prettify()[:1045])"
   ]
  },
  {
   "cell_type": "markdown",
   "metadata": {},
   "source": [
    "## Find the data that you need to analyze in the html file\n",
    "In this case, since we want to find the data of Ask and bid currency for yen, the data is located in table, with class=table. so we go to the part of table class in the raw data/\n",
    "\n",
    "<table class=\"table\">\n",
    "<tbody><tr>\n",
    "<td>TANGGAL</td>\n",
    "<td>ASK</td>\n",
    "<td>BID</td>\n",
    "</tr>\n",
    "<tr class=\"verySoftGreyBg\">\n",
    "<td>14&nbsp;Mei&nbsp;2020</td>\n",
    "<td>140,55</td>\n",
    "<td>139,14</td>\n",
    "</tr>\n"
   ]
  },
  {
   "cell_type": "code",
   "execution_count": 5,
   "metadata": {},
   "outputs": [
    {
     "output_type": "stream",
     "name": "stdout",
     "text": "table class=\"table\">\n <tr>\n  <td>\n   TANGGAL\n  </td>\n  <td>\n   ASK\n  </td>\n  <td>\n   BID\n  </td>\n </tr>\n <tr class=\"verySoftGreyBg\">\n  <td>\n   30 Desember 2019\n  </td>\n  <td>\n   128,30\n  </td>\n  <td>\n   127,02\n  </td>\n </tr>\n <tr>\n  <td>\n   27 Desember 2019\n  </td>\n  <td>\n   128,11\n  </td>\n  <td>\n   126,83\n  </td>\n </tr>\n <tr class=\"verySoftGreyBg\">\n  <td>\n   26 Desember 2019\n  </td>\n  <td>\n   128,27\n  </td>\n  <td>\n   126,98\n  </td>\n </tr>\n <tr>\n  <td>\n   23 Desember 2019\n  </td>\n  <td>\n   128,\n"
    }
   ],
   "source": [
    "table = soup.find('table', attrs={'class':'table'})\n",
    "print(table.prettify()[1:500])"
   ]
  },
  {
   "cell_type": "markdown",
   "metadata": {},
   "source": [
    "As data resides in a table, and in each row, so we have to find the data in tr ( table row)"
   ]
  },
  {
   "cell_type": "code",
   "execution_count": 6,
   "metadata": {},
   "outputs": [],
   "source": [
    "tr = table.find_all('tr')"
   ]
  },
  {
   "cell_type": "markdown",
   "metadata": {},
   "source": [
    "check the output of tr to ensure the data is taken correctly "
   ]
  },
  {
   "cell_type": "code",
   "execution_count": 8,
   "metadata": {},
   "outputs": [
    {
     "output_type": "stream",
     "name": "stdout",
     "text": "\n"
    }
   ],
   "source": [
    "tr\n",
    "\n"
   ]
  },
  {
   "cell_type": "markdown",
   "metadata": {},
   "source": [
    "## Extracting the data from the scrapped HTML into a list "
   ]
  },
  {
   "cell_type": "markdown",
   "metadata": {},
   "source": [
    "First, we created an empty list that will be filled the data. then, extract the data using iteration / looping "
   ]
  },
  {
   "cell_type": "code",
   "execution_count": 9,
   "metadata": {},
   "outputs": [],
   "source": [
    "temp = [] "
   ]
  },
  {
   "cell_type": "code",
   "execution_count": 10,
   "metadata": {},
   "outputs": [],
   "source": [
    "for i in range(1, len(tr)):\n",
    "    row = table.find_all('tr')[i]\n",
    "    \n",
    "    #get tanggal \n",
    "    Tanggal = row.find_all('td')[0].text\n",
    "    Tanggal =  Tanggal.strip() #for removing the excess whitespace\n",
    "    \n",
    "    #get inflasi\n",
    "    Kurs_Jual = row.find_all('td')[1].text\n",
    "    Kurs_Jual = Kurs_Jual.strip() #for removing the excess whitespace\n",
    "\n",
    "    #get inflasi\n",
    "    Kurs_Beli = row.find_all('td')[2].text\n",
    "    Kurs_Beli = Kurs_Beli.strip() #for removing the excess whitespace\n",
    "    \n",
    "    temp.append((Tanggal,Kurs_Jual,Kurs_Beli)) "
   ]
  },
  {
   "cell_type": "markdown",
   "metadata": {},
   "source": [
    "let's check the result"
   ]
  },
  {
   "cell_type": "code",
   "execution_count": 12,
   "metadata": {},
   "outputs": [
    {
     "output_type": "stream",
     "name": "stdout",
     "text": "\n"
    }
   ],
   "source": [
    "temp\n",
    "\n"
   ]
  },
  {
   "cell_type": "code",
   "execution_count": 13,
   "metadata": {},
   "outputs": [],
   "source": [
    "temp = temp[::-1] #remove the header"
   ]
  },
  {
   "cell_type": "code",
   "execution_count": 77,
   "metadata": {},
   "outputs": [
    {
     "output_type": "stream",
     "name": "stdout",
     "text": "\n"
    }
   ],
   "source": [
    "temp\n",
    "\n"
   ]
  },
  {
   "cell_type": "markdown",
   "metadata": {},
   "source": [
    "## Creating the DataFrame from the data list \n",
    "After extracting from the scrapped data into the list, next we can create a dataframe using the data and adding columns name for each the extracted data. \n"
   ]
  },
  {
   "cell_type": "code",
   "execution_count": 14,
   "metadata": {},
   "outputs": [],
   "source": [
    "\n",
    "df = pd.DataFrame(temp, columns = ('Tanggal','Kurs_Jual','Kurs_Beli'))\n"
   ]
  },
  {
   "cell_type": "code",
   "execution_count": 15,
   "metadata": {},
   "outputs": [
    {
     "output_type": "execute_result",
     "data": {
      "text/plain": "              Tanggal Kurs_Jual Kurs_Beli\n0     02 Januari 2019    132,89    131,54\n1     03 Januari 2019    135,44    134,08\n2     04 Januari 2019    133,51    132,17\n3     07 Januari 2019    130,86    129,51\n4     08 Januari 2019    129,84    128,52\n..                ...       ...       ...\n240  20 Desember 2019    128,63    127,34\n241  23 Desember 2019    128,39    127,10\n242  26 Desember 2019    128,27    126,98\n243  27 Desember 2019    128,11    126,83\n244  30 Desember 2019    128,30    127,02\n\n[245 rows x 3 columns]",
      "text/html": "<div>\n<style scoped>\n    .dataframe tbody tr th:only-of-type {\n        vertical-align: middle;\n    }\n\n    .dataframe tbody tr th {\n        vertical-align: top;\n    }\n\n    .dataframe thead th {\n        text-align: right;\n    }\n</style>\n<table border=\"1\" class=\"dataframe\">\n  <thead>\n    <tr style=\"text-align: right;\">\n      <th></th>\n      <th>Tanggal</th>\n      <th>Kurs_Jual</th>\n      <th>Kurs_Beli</th>\n    </tr>\n  </thead>\n  <tbody>\n    <tr>\n      <th>0</th>\n      <td>02 Januari 2019</td>\n      <td>132,89</td>\n      <td>131,54</td>\n    </tr>\n    <tr>\n      <th>1</th>\n      <td>03 Januari 2019</td>\n      <td>135,44</td>\n      <td>134,08</td>\n    </tr>\n    <tr>\n      <th>2</th>\n      <td>04 Januari 2019</td>\n      <td>133,51</td>\n      <td>132,17</td>\n    </tr>\n    <tr>\n      <th>3</th>\n      <td>07 Januari 2019</td>\n      <td>130,86</td>\n      <td>129,51</td>\n    </tr>\n    <tr>\n      <th>4</th>\n      <td>08 Januari 2019</td>\n      <td>129,84</td>\n      <td>128,52</td>\n    </tr>\n    <tr>\n      <th>...</th>\n      <td>...</td>\n      <td>...</td>\n      <td>...</td>\n    </tr>\n    <tr>\n      <th>240</th>\n      <td>20 Desember 2019</td>\n      <td>128,63</td>\n      <td>127,34</td>\n    </tr>\n    <tr>\n      <th>241</th>\n      <td>23 Desember 2019</td>\n      <td>128,39</td>\n      <td>127,10</td>\n    </tr>\n    <tr>\n      <th>242</th>\n      <td>26 Desember 2019</td>\n      <td>128,27</td>\n      <td>126,98</td>\n    </tr>\n    <tr>\n      <th>243</th>\n      <td>27 Desember 2019</td>\n      <td>128,11</td>\n      <td>126,83</td>\n    </tr>\n    <tr>\n      <th>244</th>\n      <td>30 Desember 2019</td>\n      <td>128,30</td>\n      <td>127,02</td>\n    </tr>\n  </tbody>\n</table>\n<p>245 rows × 3 columns</p>\n</div>"
     },
     "metadata": {},
     "execution_count": 15
    }
   ],
   "source": [
    "df "
   ]
  },
  {
   "cell_type": "markdown",
   "metadata": {},
   "source": [
    "### Changing the local  format into Python  format\n",
    "since the date in the data is using local date format ( Indonesian date format), we have to change the date format into recognized date format in Python, We could use library to change the date format such as dateparser or we just replace them with the built in library in Python"
   ]
  },
  {
   "cell_type": "code",
   "execution_count": 16,
   "metadata": {},
   "outputs": [],
   "source": [
    "df['Tanggal']=df['Tanggal'].str.replace(\"Mei\",\"May\")\n",
    "df['Tanggal']=df['Tanggal'].str.replace(\"Januari\",\"Jan\")\n",
    "df['Tanggal']=df['Tanggal'].str.replace(\"Februari\",\"Feb\")\n",
    "df['Tanggal']=df['Tanggal'].str.replace(\"Maret\",\"Mar\")\n",
    "df['Tanggal']=df['Tanggal'].str.replace(\"April\",\"Apr\")\n",
    "df['Tanggal']=df['Tanggal'].str.replace(\"Juni\",\"Jun\")\n",
    "df['Tanggal']=df['Tanggal'].str.replace(\"Juli\",\"Jul\")\n",
    "df['Tanggal']=df['Tanggal'].str.replace(\"Agustus\",\"Aug\")\n",
    "df['Tanggal']=df['Tanggal'].str.replace(\"September\",\"Sep\")\n",
    "df['Tanggal']=df['Tanggal'].str.replace(\"Oktober\",\"Oct\")\n",
    "df['Tanggal']=df['Tanggal'].str.replace(\"November\",\"Nov\")\n",
    "df['Tanggal']=df['Tanggal'].str.replace(\"Desember\",\"Dec\")"
   ]
  },
  {
   "cell_type": "markdown",
   "metadata": {},
   "source": [
    "beside the local date, we have to change the local decimal number format ( indonesian number format) to recognized python format. the local decimal number format is using ',' and we have to change it to '.'"
   ]
  },
  {
   "cell_type": "code",
   "execution_count": 17,
   "metadata": {},
   "outputs": [],
   "source": [
    "df['Kurs_Jual'] = df['Kurs_Jual'].str.replace(\",\",\".\")\n",
    "df['Kurs_Beli'] = df['Kurs_Beli'].str.replace(\",\",\".\")"
   ]
  },
  {
   "cell_type": "markdown",
   "metadata": {},
   "source": [
    "As the data of Kurs_Jual and Kurs_beli are in object data type, we should change them into floating data type"
   ]
  },
  {
   "cell_type": "code",
   "execution_count": 19,
   "metadata": {},
   "outputs": [],
   "source": [
    "df['Kurs_Jual']=df['Kurs_Jual'].astype('float')\n",
    "df['Kurs_Beli']=df['Kurs_Beli'].astype('float')"
   ]
  },
  {
   "cell_type": "code",
   "execution_count": 20,
   "metadata": {},
   "outputs": [
    {
     "output_type": "execute_result",
     "data": {
      "text/plain": "0      02 Jan 2019\n1      03 Jan 2019\n2      04 Jan 2019\n3      07 Jan 2019\n4      08 Jan 2019\n          ...     \n240    20 Dec 2019\n241    23 Dec 2019\n242    26 Dec 2019\n243    27 Dec 2019\n244    30 Dec 2019\nName: Tanggal, Length: 245, dtype: object"
     },
     "metadata": {},
     "execution_count": 20
    }
   ],
   "source": [
    "df['Tanggal']"
   ]
  },
  {
   "cell_type": "markdown",
   "metadata": {},
   "source": [
    "As we did in data kurs, we have to change the data type of Tanggal, from object into datetime datatypes"
   ]
  },
  {
   "cell_type": "code",
   "execution_count": 21,
   "metadata": {},
   "outputs": [],
   "source": [
    "df['Tanggal']=df['Tanggal'].astype('datetime64')"
   ]
  },
  {
   "cell_type": "markdown",
   "metadata": {},
   "source": [
    "Let's check the data type of data has been correctly applied"
   ]
  },
  {
   "cell_type": "code",
   "execution_count": 22,
   "metadata": {},
   "outputs": [
    {
     "output_type": "execute_result",
     "data": {
      "text/plain": "Tanggal      datetime64[ns]\nKurs_Jual           float64\nKurs_Beli           float64\ndtype: object"
     },
     "metadata": {},
     "execution_count": 22
    }
   ],
   "source": [
    "df.dtypes"
   ]
  },
  {
   "cell_type": "markdown",
   "metadata": {},
   "source": [
    "I would like to set the tanggal as an index in X axis in plot chart, so I change it  to index"
   ]
  },
  {
   "cell_type": "code",
   "execution_count": 23,
   "metadata": {},
   "outputs": [],
   "source": [
    "df = df.sort_values(by='Tanggal').set_index('Tanggal')"
   ]
  },
  {
   "cell_type": "code",
   "execution_count": 24,
   "metadata": {},
   "outputs": [
    {
     "output_type": "execute_result",
     "data": {
      "text/plain": "            Kurs_Jual  Kurs_Beli\nTanggal                         \n2019-01-02     132.89     131.54\n2019-01-03     135.44     134.08\n2019-01-04     133.51     132.17\n2019-01-07     130.86     129.51\n2019-01-08     129.84     128.52\n...               ...        ...\n2019-12-20     128.63     127.34\n2019-12-23     128.39     127.10\n2019-12-26     128.27     126.98\n2019-12-27     128.11     126.83\n2019-12-30     128.30     127.02\n\n[245 rows x 2 columns]",
      "text/html": "<div>\n<style scoped>\n    .dataframe tbody tr th:only-of-type {\n        vertical-align: middle;\n    }\n\n    .dataframe tbody tr th {\n        vertical-align: top;\n    }\n\n    .dataframe thead th {\n        text-align: right;\n    }\n</style>\n<table border=\"1\" class=\"dataframe\">\n  <thead>\n    <tr style=\"text-align: right;\">\n      <th></th>\n      <th>Kurs_Jual</th>\n      <th>Kurs_Beli</th>\n    </tr>\n    <tr>\n      <th>Tanggal</th>\n      <th></th>\n      <th></th>\n    </tr>\n  </thead>\n  <tbody>\n    <tr>\n      <th>2019-01-02</th>\n      <td>132.89</td>\n      <td>131.54</td>\n    </tr>\n    <tr>\n      <th>2019-01-03</th>\n      <td>135.44</td>\n      <td>134.08</td>\n    </tr>\n    <tr>\n      <th>2019-01-04</th>\n      <td>133.51</td>\n      <td>132.17</td>\n    </tr>\n    <tr>\n      <th>2019-01-07</th>\n      <td>130.86</td>\n      <td>129.51</td>\n    </tr>\n    <tr>\n      <th>2019-01-08</th>\n      <td>129.84</td>\n      <td>128.52</td>\n    </tr>\n    <tr>\n      <th>...</th>\n      <td>...</td>\n      <td>...</td>\n    </tr>\n    <tr>\n      <th>2019-12-20</th>\n      <td>128.63</td>\n      <td>127.34</td>\n    </tr>\n    <tr>\n      <th>2019-12-23</th>\n      <td>128.39</td>\n      <td>127.10</td>\n    </tr>\n    <tr>\n      <th>2019-12-26</th>\n      <td>128.27</td>\n      <td>126.98</td>\n    </tr>\n    <tr>\n      <th>2019-12-27</th>\n      <td>128.11</td>\n      <td>126.83</td>\n    </tr>\n    <tr>\n      <th>2019-12-30</th>\n      <td>128.30</td>\n      <td>127.02</td>\n    </tr>\n  </tbody>\n</table>\n<p>245 rows × 2 columns</p>\n</div>"
     },
     "metadata": {},
     "execution_count": 24
    }
   ],
   "source": [
    "df"
   ]
  },
  {
   "cell_type": "markdown",
   "metadata": {},
   "source": [
    "If you want to resample the data from daily into monhtly or weekly , you could do it using resample. in this case, I will not do resample"
   ]
  },
  {
   "cell_type": "code",
   "execution_count": 141,
   "metadata": {},
   "outputs": [],
   "source": [
    "#df = df.resample('M').mean()"
   ]
  },
  {
   "cell_type": "markdown",
   "metadata": {},
   "source": [
    "just check the index whether it is correct"
   ]
  },
  {
   "cell_type": "code",
   "execution_count": 43,
   "metadata": {},
   "outputs": [
    {
     "output_type": "execute_result",
     "data": {
      "text/plain": "DatetimeIndex(['2019-01-02', '2019-01-02', '2019-01-02', '2019-01-02',\n               '2019-01-02', '2019-01-02', '2019-01-02', '2019-01-02',\n               '2019-01-02', '2019-01-02',\n               ...\n               '2019-12-13', '2019-12-16', '2019-12-17', '2019-12-18',\n               '2019-12-19', '2019-12-20', '2019-12-23', '2019-12-26',\n               '2019-12-27', '2019-12-30'],\n              dtype='datetime64[ns]', name='Tanggal', length=490, freq=None)"
     },
     "metadata": {},
     "execution_count": 43
    }
   ],
   "source": [
    "df.index"
   ]
  },
  {
   "cell_type": "markdown",
   "metadata": {},
   "source": [
    "## Creating the Plot"
   ]
  },
  {
   "cell_type": "markdown",
   "metadata": {},
   "source": [
    "Since the data is time series, we could use line chart for this purpose."
   ]
  },
  {
   "cell_type": "code",
   "execution_count": 86,
   "metadata": {
    "tags": [
     "outputPrepend"
    ]
   },
   "outputs": [
    {
     "output_type": "execute_result",
     "data": {
      "text/plain": "<matplotlib.axes._subplots.AxesSubplot at 0x20361e9fe80>"
     },
     "metadata": {},
     "execution_count": 86
    },
    {
     "output_type": "display_data",
     "data": {
      "text/plain": "<Figure size 432x288 with 1 Axes>",
      "image/svg+xml": "<?xml version=\"1.0\" encoding=\"utf-8\" standalone=\"no\"?>\r\n<!DOCTYPE svg PUBLIC \"-//W3C//DTD SVG 1.1//EN\"\r\n  \"http://www.w3.org/Graphics/SVG/1.1/DTD/svg11.dtd\">\r\n<!-- Created with matplotlib (https://matplotlib.org/) -->\r\n<svg height=\"260.191033pt\" version=\"1.1\" viewBox=\"0 0 375.2875 260.191033\" width=\"375.2875pt\" xmlns=\"http://www.w3.org/2000/svg\" xmlns:xlink=\"http://www.w3.org/1999/xlink\">\r\n <defs>\r\n  <style type=\"text/css\">\r\n*{stroke-linecap:butt;stroke-linejoin:round;}\r\n  </style>\r\n </defs>\r\n <g id=\"figure_1\">\r\n  <g id=\"patch_1\">\r\n   <path d=\"M 0 260.191033 \r\nL 375.2875 260.191033 \r\nL 375.2875 0 \r\nL 0 0 \r\nz\r\n\" style=\"fill:none;\"/>\r\n  </g>\r\n  <g id=\"axes_1\">\r\n   <g id=\"patch_2\">\r\n    <path d=\"M 33.2875 203.04 \r\nL 368.0875 203.04 \r\nL 368.0875 7.2 \r\nL 33.2875 7.2 \r\nz\r\n\" style=\"fill:#ffffff;\"/>\r\n   </g>\r\n   <g id=\"matplotlib.axis_1\">\r\n    <g id=\"xtick_1\">\r\n     <g id=\"line2d_1\">\r\n      <defs>\r\n       <path d=\"M 0 0 \r\nL 0 3.5 \r\n\" id=\"m9d21f47432\" style=\"stroke:#000000;stroke-width:0.8;\"/>\r\n      </defs>\r\n      <g>\r\n       <use style=\"stroke:#000000;stroke-width:0.8;\" x=\"61.033356\" xlink:href=\"#m9d21f47432\" y=\"203.04\"/>\r\n      </g>\r\n     </g>\r\n     <g id=\"text_1\">\r\n      <!-- 2019-02 -->\r\n      <defs>\r\n       <path d=\"M 19.1875 8.296875 \r\nL 53.609375 8.296875 \r\nL 53.609375 0 \r\nL 7.328125 0 \r\nL 7.328125 8.296875 \r\nQ 12.9375 14.109375 22.625 23.890625 \r\nQ 32.328125 33.6875 34.8125 36.53125 \r\nQ 39.546875 41.84375 41.421875 45.53125 \r\nQ 43.3125 49.21875 43.3125 52.78125 \r\nQ 43.3125 58.59375 39.234375 62.25 \r\nQ 35.15625 65.921875 28.609375 65.921875 \r\nQ 23.96875 65.921875 18.8125 64.3125 \r\nQ 13.671875 62.703125 7.8125 59.421875 \r\nL 7.8125 69.390625 \r\nQ 13.765625 71.78125 18.9375 73 \r\nQ 24.125 74.21875 28.421875 74.21875 \r\nQ 39.75 74.21875 46.484375 68.546875 \r\nQ 53.21875 62.890625 53.21875 53.421875 \r\nQ 53.21875 48.921875 51.53125 44.890625 \r\nQ 49.859375 40.875 45.40625 35.40625 \r\nQ 44.1875 33.984375 37.640625 27.21875 \r\nQ 31.109375 20.453125 19.1875 8.296875 \r\nz\r\n\" id=\"DejaVuSans-50\"/>\r\n       <path d=\"M 31.78125 66.40625 \r\nQ 24.171875 66.40625 20.328125 58.90625 \r\nQ 16.5 51.421875 16.5 36.375 \r\nQ 16.5 21.390625 20.328125 13.890625 \r\nQ 24.171875 6.390625 31.78125 6.390625 \r\nQ 39.453125 6.390625 43.28125 13.890625 \r\nQ 47.125 21.390625 47.125 36.375 \r\nQ 47.125 51.421875 43.28125 58.90625 \r\nQ 39.453125 66.40625 31.78125 66.40625 \r\nz\r\nM 31.78125 74.21875 \r\nQ 44.046875 74.21875 50.515625 64.515625 \r\nQ 56.984375 54.828125 56.984375 36.375 \r\nQ 56.984375 17.96875 50.515625 8.265625 \r\nQ 44.046875 -1.421875 31.78125 -1.421875 \r\nQ 19.53125 -1.421875 13.0625 8.265625 \r\nQ 6.59375 17.96875 6.59375 36.375 \r\nQ 6.59375 54.828125 13.0625 64.515625 \r\nQ 19.53125 74.21875 31.78125 74.21875 \r\nz\r\n\" id=\"DejaVuSans-48\"/>\r\n       <path d=\"M 12.40625 8.296875 \r\nL 28.515625 8.296875 \r\nL 28.515625 63.921875 \r\nL 10.984375 60.40625 \r\nL 10.984375 69.390625 \r\nL 28.421875 72.90625 \r\nL 38.28125 72.90625 \r\nL 38.28125 8.296875 \r\nL 54.390625 8.296875 \r\nL 54.390625 0 \r\nL 12.40625 0 \r\nz\r\n\" id=\"DejaVuSans-49\"/>\r\n       <path d=\"M 10.984375 1.515625 \r\nL 10.984375 10.5 \r\nQ 14.703125 8.734375 18.5 7.8125 \r\nQ 22.3125 6.890625 25.984375 6.890625 \r\nQ 35.75 6.890625 40.890625 13.453125 \r\nQ 46.046875 20.015625 46.78125 33.40625 \r\nQ 43.953125 29.203125 39.59375 26.953125 \r\nQ 35.25 24.703125 29.984375 24.703125 \r\nQ 19.046875 24.703125 12.671875 31.3125 \r\nQ 6.296875 37.9375 6.296875 49.421875 \r\nQ 6.296875 60.640625 12.9375 67.421875 \r\nQ 19.578125 74.21875 30.609375 74.21875 \r\nQ 43.265625 74.21875 49.921875 64.515625 \r\nQ 56.59375 54.828125 56.59375 36.375 \r\nQ 56.59375 19.140625 48.40625 8.859375 \r\nQ 40.234375 -1.421875 26.421875 -1.421875 \r\nQ 22.703125 -1.421875 18.890625 -0.6875 \r\nQ 15.09375 0.046875 10.984375 1.515625 \r\nz\r\nM 30.609375 32.421875 \r\nQ 37.25 32.421875 41.125 36.953125 \r\nQ 45.015625 41.5 45.015625 49.421875 \r\nQ 45.015625 57.28125 41.125 61.84375 \r\nQ 37.25 66.40625 30.609375 66.40625 \r\nQ 23.96875 66.40625 20.09375 61.84375 \r\nQ 16.21875 57.28125 16.21875 49.421875 \r\nQ 16.21875 41.5 20.09375 36.953125 \r\nQ 23.96875 32.421875 30.609375 32.421875 \r\nz\r\n\" id=\"DejaVuSans-57\"/>\r\n       <path d=\"M 4.890625 31.390625 \r\nL 31.203125 31.390625 \r\nL 31.203125 23.390625 \r\nL 4.890625 23.390625 \r\nz\r\n\" id=\"DejaVuSans-45\"/>\r\n      </defs>\r\n      <g transform=\"translate(23.808536 237.511846)rotate(-30)scale(0.1 -0.1)\">\r\n       <use xlink:href=\"#DejaVuSans-50\"/>\r\n       <use x=\"63.623047\" xlink:href=\"#DejaVuSans-48\"/>\r\n       <use x=\"127.246094\" xlink:href=\"#DejaVuSans-49\"/>\r\n       <use x=\"190.869141\" xlink:href=\"#DejaVuSans-57\"/>\r\n       <use x=\"254.492188\" xlink:href=\"#DejaVuSans-45\"/>\r\n       <use x=\"290.576172\" xlink:href=\"#DejaVuSans-48\"/>\r\n       <use x=\"354.199219\" xlink:href=\"#DejaVuSans-50\"/>\r\n      </g>\r\n     </g>\r\n    </g>\r\n    <g id=\"xtick_2\">\r\n     <g id=\"line2d_2\">\r\n      <g>\r\n       <use style=\"stroke:#000000;stroke-width:0.8;\" x=\"86.929489\" xlink:href=\"#m9d21f47432\" y=\"203.04\"/>\r\n      </g>\r\n     </g>\r\n     <g id=\"text_2\">\r\n      <!-- 2019-03 -->\r\n      <defs>\r\n       <path d=\"M 40.578125 39.3125 \r\nQ 47.65625 37.796875 51.625 33 \r\nQ 55.609375 28.21875 55.609375 21.1875 \r\nQ 55.609375 10.40625 48.1875 4.484375 \r\nQ 40.765625 -1.421875 27.09375 -1.421875 \r\nQ 22.515625 -1.421875 17.65625 -0.515625 \r\nQ 12.796875 0.390625 7.625 2.203125 \r\nL 7.625 11.71875 \r\nQ 11.71875 9.328125 16.59375 8.109375 \r\nQ 21.484375 6.890625 26.8125 6.890625 \r\nQ 36.078125 6.890625 40.9375 10.546875 \r\nQ 45.796875 14.203125 45.796875 21.1875 \r\nQ 45.796875 27.640625 41.28125 31.265625 \r\nQ 36.765625 34.90625 28.71875 34.90625 \r\nL 20.21875 34.90625 \r\nL 20.21875 43.015625 \r\nL 29.109375 43.015625 \r\nQ 36.375 43.015625 40.234375 45.921875 \r\nQ 44.09375 48.828125 44.09375 54.296875 \r\nQ 44.09375 59.90625 40.109375 62.90625 \r\nQ 36.140625 65.921875 28.71875 65.921875 \r\nQ 24.65625 65.921875 20.015625 65.03125 \r\nQ 15.375 64.15625 9.8125 62.3125 \r\nL 9.8125 71.09375 \r\nQ 15.4375 72.65625 20.34375 73.4375 \r\nQ 25.25 74.21875 29.59375 74.21875 \r\nQ 40.828125 74.21875 47.359375 69.109375 \r\nQ 53.90625 64.015625 53.90625 55.328125 \r\nQ 53.90625 49.265625 50.4375 45.09375 \r\nQ 46.96875 40.921875 40.578125 39.3125 \r\nz\r\n\" id=\"DejaVuSans-51\"/>\r\n      </defs>\r\n      <g transform=\"translate(49.704668 237.511846)rotate(-30)scale(0.1 -0.1)\">\r\n       <use xlink:href=\"#DejaVuSans-50\"/>\r\n       <use x=\"63.623047\" xlink:href=\"#DejaVuSans-48\"/>\r\n       <use x=\"127.246094\" xlink:href=\"#DejaVuSans-49\"/>\r\n       <use x=\"190.869141\" xlink:href=\"#DejaVuSans-57\"/>\r\n       <use x=\"254.492188\" xlink:href=\"#DejaVuSans-45\"/>\r\n       <use x=\"290.576172\" xlink:href=\"#DejaVuSans-48\"/>\r\n       <use x=\"354.199219\" xlink:href=\"#DejaVuSans-51\"/>\r\n      </g>\r\n     </g>\r\n    </g>\r\n    <g id=\"xtick_3\">\r\n     <g id=\"line2d_3\">\r\n      <g>\r\n       <use style=\"stroke:#000000;stroke-width:0.8;\" x=\"115.600207\" xlink:href=\"#m9d21f47432\" y=\"203.04\"/>\r\n      </g>\r\n     </g>\r\n     <g id=\"text_3\">\r\n      <!-- 2019-04 -->\r\n      <defs>\r\n       <path d=\"M 37.796875 64.3125 \r\nL 12.890625 25.390625 \r\nL 37.796875 25.390625 \r\nz\r\nM 35.203125 72.90625 \r\nL 47.609375 72.90625 \r\nL 47.609375 25.390625 \r\nL 58.015625 25.390625 \r\nL 58.015625 17.1875 \r\nL 47.609375 17.1875 \r\nL 47.609375 0 \r\nL 37.796875 0 \r\nL 37.796875 17.1875 \r\nL 4.890625 17.1875 \r\nL 4.890625 26.703125 \r\nz\r\n\" id=\"DejaVuSans-52\"/>\r\n      </defs>\r\n      <g transform=\"translate(78.375386 237.511846)rotate(-30)scale(0.1 -0.1)\">\r\n       <use xlink:href=\"#DejaVuSans-50\"/>\r\n       <use x=\"63.623047\" xlink:href=\"#DejaVuSans-48\"/>\r\n       <use x=\"127.246094\" xlink:href=\"#DejaVuSans-49\"/>\r\n       <use x=\"190.869141\" xlink:href=\"#DejaVuSans-57\"/>\r\n       <use x=\"254.492188\" xlink:href=\"#DejaVuSans-45\"/>\r\n       <use x=\"290.576172\" xlink:href=\"#DejaVuSans-48\"/>\r\n       <use x=\"354.199219\" xlink:href=\"#DejaVuSans-52\"/>\r\n      </g>\r\n     </g>\r\n    </g>\r\n    <g id=\"xtick_4\">\r\n     <g id=\"line2d_4\">\r\n      <g>\r\n       <use style=\"stroke:#000000;stroke-width:0.8;\" x=\"143.346064\" xlink:href=\"#m9d21f47432\" y=\"203.04\"/>\r\n      </g>\r\n     </g>\r\n     <g id=\"text_4\">\r\n      <!-- 2019-05 -->\r\n      <defs>\r\n       <path d=\"M 10.796875 72.90625 \r\nL 49.515625 72.90625 \r\nL 49.515625 64.59375 \r\nL 19.828125 64.59375 \r\nL 19.828125 46.734375 \r\nQ 21.96875 47.46875 24.109375 47.828125 \r\nQ 26.265625 48.1875 28.421875 48.1875 \r\nQ 40.625 48.1875 47.75 41.5 \r\nQ 54.890625 34.8125 54.890625 23.390625 \r\nQ 54.890625 11.625 47.5625 5.09375 \r\nQ 40.234375 -1.421875 26.90625 -1.421875 \r\nQ 22.3125 -1.421875 17.546875 -0.640625 \r\nQ 12.796875 0.140625 7.71875 1.703125 \r\nL 7.71875 11.625 \r\nQ 12.109375 9.234375 16.796875 8.0625 \r\nQ 21.484375 6.890625 26.703125 6.890625 \r\nQ 35.15625 6.890625 40.078125 11.328125 \r\nQ 45.015625 15.765625 45.015625 23.390625 \r\nQ 45.015625 31 40.078125 35.4375 \r\nQ 35.15625 39.890625 26.703125 39.890625 \r\nQ 22.75 39.890625 18.8125 39.015625 \r\nQ 14.890625 38.140625 10.796875 36.28125 \r\nz\r\n\" id=\"DejaVuSans-53\"/>\r\n      </defs>\r\n      <g transform=\"translate(106.121243 237.511846)rotate(-30)scale(0.1 -0.1)\">\r\n       <use xlink:href=\"#DejaVuSans-50\"/>\r\n       <use x=\"63.623047\" xlink:href=\"#DejaVuSans-48\"/>\r\n       <use x=\"127.246094\" xlink:href=\"#DejaVuSans-49\"/>\r\n       <use x=\"190.869141\" xlink:href=\"#DejaVuSans-57\"/>\r\n       <use x=\"254.492188\" xlink:href=\"#DejaVuSans-45\"/>\r\n       <use x=\"290.576172\" xlink:href=\"#DejaVuSans-48\"/>\r\n       <use x=\"354.199219\" xlink:href=\"#DejaVuSans-53\"/>\r\n      </g>\r\n     </g>\r\n    </g>\r\n    <g id=\"xtick_5\">\r\n     <g id=\"line2d_5\">\r\n      <g>\r\n       <use style=\"stroke:#000000;stroke-width:0.8;\" x=\"172.016782\" xlink:href=\"#m9d21f47432\" y=\"203.04\"/>\r\n      </g>\r\n     </g>\r\n     <g id=\"text_5\">\r\n      <!-- 2019-06 -->\r\n      <defs>\r\n       <path d=\"M 33.015625 40.375 \r\nQ 26.375 40.375 22.484375 35.828125 \r\nQ 18.609375 31.296875 18.609375 23.390625 \r\nQ 18.609375 15.53125 22.484375 10.953125 \r\nQ 26.375 6.390625 33.015625 6.390625 \r\nQ 39.65625 6.390625 43.53125 10.953125 \r\nQ 47.40625 15.53125 47.40625 23.390625 \r\nQ 47.40625 31.296875 43.53125 35.828125 \r\nQ 39.65625 40.375 33.015625 40.375 \r\nz\r\nM 52.59375 71.296875 \r\nL 52.59375 62.3125 \r\nQ 48.875 64.0625 45.09375 64.984375 \r\nQ 41.3125 65.921875 37.59375 65.921875 \r\nQ 27.828125 65.921875 22.671875 59.328125 \r\nQ 17.53125 52.734375 16.796875 39.40625 \r\nQ 19.671875 43.65625 24.015625 45.921875 \r\nQ 28.375 48.1875 33.59375 48.1875 \r\nQ 44.578125 48.1875 50.953125 41.515625 \r\nQ 57.328125 34.859375 57.328125 23.390625 \r\nQ 57.328125 12.15625 50.6875 5.359375 \r\nQ 44.046875 -1.421875 33.015625 -1.421875 \r\nQ 20.359375 -1.421875 13.671875 8.265625 \r\nQ 6.984375 17.96875 6.984375 36.375 \r\nQ 6.984375 53.65625 15.1875 63.9375 \r\nQ 23.390625 74.21875 37.203125 74.21875 \r\nQ 40.921875 74.21875 44.703125 73.484375 \r\nQ 48.484375 72.75 52.59375 71.296875 \r\nz\r\n\" id=\"DejaVuSans-54\"/>\r\n      </defs>\r\n      <g transform=\"translate(134.791961 237.511846)rotate(-30)scale(0.1 -0.1)\">\r\n       <use xlink:href=\"#DejaVuSans-50\"/>\r\n       <use x=\"63.623047\" xlink:href=\"#DejaVuSans-48\"/>\r\n       <use x=\"127.246094\" xlink:href=\"#DejaVuSans-49\"/>\r\n       <use x=\"190.869141\" xlink:href=\"#DejaVuSans-57\"/>\r\n       <use x=\"254.492188\" xlink:href=\"#DejaVuSans-45\"/>\r\n       <use x=\"290.576172\" xlink:href=\"#DejaVuSans-48\"/>\r\n       <use x=\"354.199219\" xlink:href=\"#DejaVuSans-54\"/>\r\n      </g>\r\n     </g>\r\n    </g>\r\n    <g id=\"xtick_6\">\r\n     <g id=\"line2d_6\">\r\n      <g>\r\n       <use style=\"stroke:#000000;stroke-width:0.8;\" x=\"199.762638\" xlink:href=\"#m9d21f47432\" y=\"203.04\"/>\r\n      </g>\r\n     </g>\r\n     <g id=\"text_6\">\r\n      <!-- 2019-07 -->\r\n      <defs>\r\n       <path d=\"M 8.203125 72.90625 \r\nL 55.078125 72.90625 \r\nL 55.078125 68.703125 \r\nL 28.609375 0 \r\nL 18.3125 0 \r\nL 43.21875 64.59375 \r\nL 8.203125 64.59375 \r\nz\r\n\" id=\"DejaVuSans-55\"/>\r\n      </defs>\r\n      <g transform=\"translate(162.537817 237.511846)rotate(-30)scale(0.1 -0.1)\">\r\n       <use xlink:href=\"#DejaVuSans-50\"/>\r\n       <use x=\"63.623047\" xlink:href=\"#DejaVuSans-48\"/>\r\n       <use x=\"127.246094\" xlink:href=\"#DejaVuSans-49\"/>\r\n       <use x=\"190.869141\" xlink:href=\"#DejaVuSans-57\"/>\r\n       <use x=\"254.492188\" xlink:href=\"#DejaVuSans-45\"/>\r\n       <use x=\"290.576172\" xlink:href=\"#DejaVuSans-48\"/>\r\n       <use x=\"354.199219\" xlink:href=\"#DejaVuSans-55\"/>\r\n      </g>\r\n     </g>\r\n    </g>\r\n    <g id=\"xtick_7\">\r\n     <g id=\"line2d_7\">\r\n      <g>\r\n       <use style=\"stroke:#000000;stroke-width:0.8;\" x=\"228.433356\" xlink:href=\"#m9d21f47432\" y=\"203.04\"/>\r\n      </g>\r\n     </g>\r\n     <g id=\"text_7\">\r\n      <!-- 2019-08 -->\r\n      <defs>\r\n       <path d=\"M 31.78125 34.625 \r\nQ 24.75 34.625 20.71875 30.859375 \r\nQ 16.703125 27.09375 16.703125 20.515625 \r\nQ 16.703125 13.921875 20.71875 10.15625 \r\nQ 24.75 6.390625 31.78125 6.390625 \r\nQ 38.8125 6.390625 42.859375 10.171875 \r\nQ 46.921875 13.96875 46.921875 20.515625 \r\nQ 46.921875 27.09375 42.890625 30.859375 \r\nQ 38.875 34.625 31.78125 34.625 \r\nz\r\nM 21.921875 38.8125 \r\nQ 15.578125 40.375 12.03125 44.71875 \r\nQ 8.5 49.078125 8.5 55.328125 \r\nQ 8.5 64.0625 14.71875 69.140625 \r\nQ 20.953125 74.21875 31.78125 74.21875 \r\nQ 42.671875 74.21875 48.875 69.140625 \r\nQ 55.078125 64.0625 55.078125 55.328125 \r\nQ 55.078125 49.078125 51.53125 44.71875 \r\nQ 48 40.375 41.703125 38.8125 \r\nQ 48.828125 37.15625 52.796875 32.3125 \r\nQ 56.78125 27.484375 56.78125 20.515625 \r\nQ 56.78125 9.90625 50.3125 4.234375 \r\nQ 43.84375 -1.421875 31.78125 -1.421875 \r\nQ 19.734375 -1.421875 13.25 4.234375 \r\nQ 6.78125 9.90625 6.78125 20.515625 \r\nQ 6.78125 27.484375 10.78125 32.3125 \r\nQ 14.796875 37.15625 21.921875 38.8125 \r\nz\r\nM 18.3125 54.390625 \r\nQ 18.3125 48.734375 21.84375 45.5625 \r\nQ 25.390625 42.390625 31.78125 42.390625 \r\nQ 38.140625 42.390625 41.71875 45.5625 \r\nQ 45.3125 48.734375 45.3125 54.390625 \r\nQ 45.3125 60.0625 41.71875 63.234375 \r\nQ 38.140625 66.40625 31.78125 66.40625 \r\nQ 25.390625 66.40625 21.84375 63.234375 \r\nQ 18.3125 60.0625 18.3125 54.390625 \r\nz\r\n\" id=\"DejaVuSans-56\"/>\r\n      </defs>\r\n      <g transform=\"translate(191.208536 237.511846)rotate(-30)scale(0.1 -0.1)\">\r\n       <use xlink:href=\"#DejaVuSans-50\"/>\r\n       <use x=\"63.623047\" xlink:href=\"#DejaVuSans-48\"/>\r\n       <use x=\"127.246094\" xlink:href=\"#DejaVuSans-49\"/>\r\n       <use x=\"190.869141\" xlink:href=\"#DejaVuSans-57\"/>\r\n       <use x=\"254.492188\" xlink:href=\"#DejaVuSans-45\"/>\r\n       <use x=\"290.576172\" xlink:href=\"#DejaVuSans-48\"/>\r\n       <use x=\"354.199219\" xlink:href=\"#DejaVuSans-56\"/>\r\n      </g>\r\n     </g>\r\n    </g>\r\n    <g id=\"xtick_8\">\r\n     <g id=\"line2d_8\">\r\n      <g>\r\n       <use style=\"stroke:#000000;stroke-width:0.8;\" x=\"257.104075\" xlink:href=\"#m9d21f47432\" y=\"203.04\"/>\r\n      </g>\r\n     </g>\r\n     <g id=\"text_8\">\r\n      <!-- 2019-09 -->\r\n      <g transform=\"translate(219.879254 237.511846)rotate(-30)scale(0.1 -0.1)\">\r\n       <use xlink:href=\"#DejaVuSans-50\"/>\r\n       <use x=\"63.623047\" xlink:href=\"#DejaVuSans-48\"/>\r\n       <use x=\"127.246094\" xlink:href=\"#DejaVuSans-49\"/>\r\n       <use x=\"190.869141\" xlink:href=\"#DejaVuSans-57\"/>\r\n       <use x=\"254.492188\" xlink:href=\"#DejaVuSans-45\"/>\r\n       <use x=\"290.576172\" xlink:href=\"#DejaVuSans-48\"/>\r\n       <use x=\"354.199219\" xlink:href=\"#DejaVuSans-57\"/>\r\n      </g>\r\n     </g>\r\n    </g>\r\n    <g id=\"xtick_9\">\r\n     <g id=\"line2d_9\">\r\n      <g>\r\n       <use style=\"stroke:#000000;stroke-width:0.8;\" x=\"284.849931\" xlink:href=\"#m9d21f47432\" y=\"203.04\"/>\r\n      </g>\r\n     </g>\r\n     <g id=\"text_9\">\r\n      <!-- 2019-10 -->\r\n      <g transform=\"translate(247.62511 237.511846)rotate(-30)scale(0.1 -0.1)\">\r\n       <use xlink:href=\"#DejaVuSans-50\"/>\r\n       <use x=\"63.623047\" xlink:href=\"#DejaVuSans-48\"/>\r\n       <use x=\"127.246094\" xlink:href=\"#DejaVuSans-49\"/>\r\n       <use x=\"190.869141\" xlink:href=\"#DejaVuSans-57\"/>\r\n       <use x=\"254.492188\" xlink:href=\"#DejaVuSans-45\"/>\r\n       <use x=\"290.576172\" xlink:href=\"#DejaVuSans-49\"/>\r\n       <use x=\"354.199219\" xlink:href=\"#DejaVuSans-48\"/>\r\n      </g>\r\n     </g>\r\n    </g>\r\n    <g id=\"xtick_10\">\r\n     <g id=\"line2d_10\">\r\n      <g>\r\n       <use style=\"stroke:#000000;stroke-width:0.8;\" x=\"313.520649\" xlink:href=\"#m9d21f47432\" y=\"203.04\"/>\r\n      </g>\r\n     </g>\r\n     <g id=\"text_10\">\r\n      <!-- 2019-11 -->\r\n      <g transform=\"translate(276.295828 237.511846)rotate(-30)scale(0.1 -0.1)\">\r\n       <use xlink:href=\"#DejaVuSans-50\"/>\r\n       <use x=\"63.623047\" xlink:href=\"#DejaVuSans-48\"/>\r\n       <use x=\"127.246094\" xlink:href=\"#DejaVuSans-49\"/>\r\n       <use x=\"190.869141\" xlink:href=\"#DejaVuSans-57\"/>\r\n       <use x=\"254.492188\" xlink:href=\"#DejaVuSans-45\"/>\r\n       <use x=\"290.576172\" xlink:href=\"#DejaVuSans-49\"/>\r\n       <use x=\"354.199219\" xlink:href=\"#DejaVuSans-49\"/>\r\n      </g>\r\n     </g>\r\n    </g>\r\n    <g id=\"xtick_11\">\r\n     <g id=\"line2d_11\">\r\n      <g>\r\n       <use style=\"stroke:#000000;stroke-width:0.8;\" x=\"341.266506\" xlink:href=\"#m9d21f47432\" y=\"203.04\"/>\r\n      </g>\r\n     </g>\r\n     <g id=\"text_11\">\r\n      <!-- 2019-12 -->\r\n      <g transform=\"translate(304.041685 237.511846)rotate(-30)scale(0.1 -0.1)\">\r\n       <use xlink:href=\"#DejaVuSans-50\"/>\r\n       <use x=\"63.623047\" xlink:href=\"#DejaVuSans-48\"/>\r\n       <use x=\"127.246094\" xlink:href=\"#DejaVuSans-49\"/>\r\n       <use x=\"190.869141\" xlink:href=\"#DejaVuSans-57\"/>\r\n       <use x=\"254.492188\" xlink:href=\"#DejaVuSans-45\"/>\r\n       <use x=\"290.576172\" xlink:href=\"#DejaVuSans-49\"/>\r\n       <use x=\"354.199219\" xlink:href=\"#DejaVuSans-50\"/>\r\n      </g>\r\n     </g>\r\n    </g>\r\n    <g id=\"text_12\">\r\n     <!-- Tanggal -->\r\n     <defs>\r\n      <path d=\"M -0.296875 72.90625 \r\nL 61.375 72.90625 \r\nL 61.375 64.59375 \r\nL 35.5 64.59375 \r\nL 35.5 0 \r\nL 25.59375 0 \r\nL 25.59375 64.59375 \r\nL -0.296875 64.59375 \r\nz\r\n\" id=\"DejaVuSans-84\"/>\r\n      <path d=\"M 34.28125 27.484375 \r\nQ 23.390625 27.484375 19.1875 25 \r\nQ 14.984375 22.515625 14.984375 16.5 \r\nQ 14.984375 11.71875 18.140625 8.90625 \r\nQ 21.296875 6.109375 26.703125 6.109375 \r\nQ 34.1875 6.109375 38.703125 11.40625 \r\nQ 43.21875 16.703125 43.21875 25.484375 \r\nL 43.21875 27.484375 \r\nz\r\nM 52.203125 31.203125 \r\nL 52.203125 0 \r\nL 43.21875 0 \r\nL 43.21875 8.296875 \r\nQ 40.140625 3.328125 35.546875 0.953125 \r\nQ 30.953125 -1.421875 24.3125 -1.421875 \r\nQ 15.921875 -1.421875 10.953125 3.296875 \r\nQ 6 8.015625 6 15.921875 \r\nQ 6 25.140625 12.171875 29.828125 \r\nQ 18.359375 34.515625 30.609375 34.515625 \r\nL 43.21875 34.515625 \r\nL 43.21875 35.40625 \r\nQ 43.21875 41.609375 39.140625 45 \r\nQ 35.0625 48.390625 27.6875 48.390625 \r\nQ 23 48.390625 18.546875 47.265625 \r\nQ 14.109375 46.140625 10.015625 43.890625 \r\nL 10.015625 52.203125 \r\nQ 14.9375 54.109375 19.578125 55.046875 \r\nQ 24.21875 56 28.609375 56 \r\nQ 40.484375 56 46.34375 49.84375 \r\nQ 52.203125 43.703125 52.203125 31.203125 \r\nz\r\n\" id=\"DejaVuSans-97\"/>\r\n      <path d=\"M 54.890625 33.015625 \r\nL 54.890625 0 \r\nL 45.90625 0 \r\nL 45.90625 32.71875 \r\nQ 45.90625 40.484375 42.875 44.328125 \r\nQ 39.84375 48.1875 33.796875 48.1875 \r\nQ 26.515625 48.1875 22.3125 43.546875 \r\nQ 18.109375 38.921875 18.109375 30.90625 \r\nL 18.109375 0 \r\nL 9.078125 0 \r\nL 9.078125 54.6875 \r\nL 18.109375 54.6875 \r\nL 18.109375 46.1875 \r\nQ 21.34375 51.125 25.703125 53.5625 \r\nQ 30.078125 56 35.796875 56 \r\nQ 45.21875 56 50.046875 50.171875 \r\nQ 54.890625 44.34375 54.890625 33.015625 \r\nz\r\n\" id=\"DejaVuSans-110\"/>\r\n      <path d=\"M 45.40625 27.984375 \r\nQ 45.40625 37.75 41.375 43.109375 \r\nQ 37.359375 48.484375 30.078125 48.484375 \r\nQ 22.859375 48.484375 18.828125 43.109375 \r\nQ 14.796875 37.75 14.796875 27.984375 \r\nQ 14.796875 18.265625 18.828125 12.890625 \r\nQ 22.859375 7.515625 30.078125 7.515625 \r\nQ 37.359375 7.515625 41.375 12.890625 \r\nQ 45.40625 18.265625 45.40625 27.984375 \r\nz\r\nM 54.390625 6.78125 \r\nQ 54.390625 -7.171875 48.1875 -13.984375 \r\nQ 42 -20.796875 29.203125 -20.796875 \r\nQ 24.46875 -20.796875 20.265625 -20.09375 \r\nQ 16.0625 -19.390625 12.109375 -17.921875 \r\nL 12.109375 -9.1875 \r\nQ 16.0625 -11.328125 19.921875 -12.34375 \r\nQ 23.78125 -13.375 27.78125 -13.375 \r\nQ 36.625 -13.375 41.015625 -8.765625 \r\nQ 45.40625 -4.15625 45.40625 5.171875 \r\nL 45.40625 9.625 \r\nQ 42.625 4.78125 38.28125 2.390625 \r\nQ 33.9375 0 27.875 0 \r\nQ 17.828125 0 11.671875 7.65625 \r\nQ 5.515625 15.328125 5.515625 27.984375 \r\nQ 5.515625 40.671875 11.671875 48.328125 \r\nQ 17.828125 56 27.875 56 \r\nQ 33.9375 56 38.28125 53.609375 \r\nQ 42.625 51.21875 45.40625 46.390625 \r\nL 45.40625 54.6875 \r\nL 54.390625 54.6875 \r\nz\r\n\" id=\"DejaVuSans-103\"/>\r\n      <path d=\"M 9.421875 75.984375 \r\nL 18.40625 75.984375 \r\nL 18.40625 0 \r\nL 9.421875 0 \r\nz\r\n\" id=\"DejaVuSans-108\"/>\r\n     </defs>\r\n     <g transform=\"translate(181.424219 250.911346)scale(0.1 -0.1)\">\r\n      <use xlink:href=\"#DejaVuSans-84\"/>\r\n      <use x=\"44.583984\" xlink:href=\"#DejaVuSans-97\"/>\r\n      <use x=\"105.863281\" xlink:href=\"#DejaVuSans-110\"/>\r\n      <use x=\"169.242188\" xlink:href=\"#DejaVuSans-103\"/>\r\n      <use x=\"232.71875\" xlink:href=\"#DejaVuSans-103\"/>\r\n      <use x=\"296.195312\" xlink:href=\"#DejaVuSans-97\"/>\r\n      <use x=\"357.474609\" xlink:href=\"#DejaVuSans-108\"/>\r\n     </g>\r\n    </g>\r\n   </g>\r\n   <g id=\"matplotlib.axis_2\">\r\n    <g id=\"ytick_1\">\r\n     <g id=\"line2d_12\">\r\n      <defs>\r\n       <path d=\"M 0 0 \r\nL -3.5 0 \r\n\" id=\"m49b348503d\" style=\"stroke:#000000;stroke-width:0.8;\"/>\r\n      </defs>\r\n      <g>\r\n       <use style=\"stroke:#000000;stroke-width:0.8;\" x=\"33.2875\" xlink:href=\"#m49b348503d\" y=\"202.543332\"/>\r\n      </g>\r\n     </g>\r\n     <g id=\"text_13\">\r\n      <!-- 124 -->\r\n      <g transform=\"translate(7.2 206.342551)scale(0.1 -0.1)\">\r\n       <use xlink:href=\"#DejaVuSans-49\"/>\r\n       <use x=\"63.623047\" xlink:href=\"#DejaVuSans-50\"/>\r\n       <use x=\"127.246094\" xlink:href=\"#DejaVuSans-52\"/>\r\n      </g>\r\n     </g>\r\n    </g>\r\n    <g id=\"ytick_2\">\r\n     <g id=\"line2d_13\">\r\n      <g>\r\n       <use style=\"stroke:#000000;stroke-width:0.8;\" x=\"33.2875\" xlink:href=\"#m49b348503d\" y=\"171.979149\"/>\r\n      </g>\r\n     </g>\r\n     <g id=\"text_14\">\r\n      <!-- 126 -->\r\n      <g transform=\"translate(7.2 175.778368)scale(0.1 -0.1)\">\r\n       <use xlink:href=\"#DejaVuSans-49\"/>\r\n       <use x=\"63.623047\" xlink:href=\"#DejaVuSans-50\"/>\r\n       <use x=\"127.246094\" xlink:href=\"#DejaVuSans-54\"/>\r\n      </g>\r\n     </g>\r\n    </g>\r\n    <g id=\"ytick_3\">\r\n     <g id=\"line2d_14\">\r\n      <g>\r\n       <use style=\"stroke:#000000;stroke-width:0.8;\" x=\"33.2875\" xlink:href=\"#m49b348503d\" y=\"141.414967\"/>\r\n      </g>\r\n     </g>\r\n     <g id=\"text_15\">\r\n      <!-- 128 -->\r\n      <g transform=\"translate(7.2 145.214186)scale(0.1 -0.1)\">\r\n       <use xlink:href=\"#DejaVuSans-49\"/>\r\n       <use x=\"63.623047\" xlink:href=\"#DejaVuSans-50\"/>\r\n       <use x=\"127.246094\" xlink:href=\"#DejaVuSans-56\"/>\r\n      </g>\r\n     </g>\r\n    </g>\r\n    <g id=\"ytick_4\">\r\n     <g id=\"line2d_15\">\r\n      <g>\r\n       <use style=\"stroke:#000000;stroke-width:0.8;\" x=\"33.2875\" xlink:href=\"#m49b348503d\" y=\"110.850784\"/>\r\n      </g>\r\n     </g>\r\n     <g id=\"text_16\">\r\n      <!-- 130 -->\r\n      <g transform=\"translate(7.2 114.650003)scale(0.1 -0.1)\">\r\n       <use xlink:href=\"#DejaVuSans-49\"/>\r\n       <use x=\"63.623047\" xlink:href=\"#DejaVuSans-51\"/>\r\n       <use x=\"127.246094\" xlink:href=\"#DejaVuSans-48\"/>\r\n      </g>\r\n     </g>\r\n    </g>\r\n    <g id=\"ytick_5\">\r\n     <g id=\"line2d_16\">\r\n      <g>\r\n       <use style=\"stroke:#000000;stroke-width:0.8;\" x=\"33.2875\" xlink:href=\"#m49b348503d\" y=\"80.286602\"/>\r\n      </g>\r\n     </g>\r\n     <g id=\"text_17\">\r\n      <!-- 132 -->\r\n      <g transform=\"translate(7.2 84.08582)scale(0.1 -0.1)\">\r\n       <use xlink:href=\"#DejaVuSans-49\"/>\r\n       <use x=\"63.623047\" xlink:href=\"#DejaVuSans-51\"/>\r\n       <use x=\"127.246094\" xlink:href=\"#DejaVuSans-50\"/>\r\n      </g>\r\n     </g>\r\n    </g>\r\n    <g id=\"ytick_6\">\r\n     <g id=\"line2d_17\">\r\n      <g>\r\n       <use style=\"stroke:#000000;stroke-width:0.8;\" x=\"33.2875\" xlink:href=\"#m49b348503d\" y=\"49.722419\"/>\r\n      </g>\r\n     </g>\r\n     <g id=\"text_18\">\r\n      <!-- 134 -->\r\n      <g transform=\"translate(7.2 53.521638)scale(0.1 -0.1)\">\r\n       <use xlink:href=\"#DejaVuSans-49\"/>\r\n       <use x=\"63.623047\" xlink:href=\"#DejaVuSans-51\"/>\r\n       <use x=\"127.246094\" xlink:href=\"#DejaVuSans-52\"/>\r\n      </g>\r\n     </g>\r\n    </g>\r\n    <g id=\"ytick_7\">\r\n     <g id=\"line2d_18\">\r\n      <g>\r\n       <use style=\"stroke:#000000;stroke-width:0.8;\" x=\"33.2875\" xlink:href=\"#m49b348503d\" y=\"19.158236\"/>\r\n      </g>\r\n     </g>\r\n     <g id=\"text_19\">\r\n      <!-- 136 -->\r\n      <g transform=\"translate(7.2 22.957455)scale(0.1 -0.1)\">\r\n       <use xlink:href=\"#DejaVuSans-49\"/>\r\n       <use x=\"63.623047\" xlink:href=\"#DejaVuSans-51\"/>\r\n       <use x=\"127.246094\" xlink:href=\"#DejaVuSans-54\"/>\r\n      </g>\r\n     </g>\r\n    </g>\r\n   </g>\r\n   <g id=\"line2d_19\">\r\n    <path clip-path=\"url(#p989370602e)\" d=\"M 33.2875 66.68554 \r\nL 34.212362 27.716208 \r\nL 35.137224 57.210644 \r\nL 37.911809 97.708186 \r\nL 38.836671 113.295919 \r\nL 39.761533 106.113336 \r\nL 40.686395 92.206633 \r\nL 41.611257 101.375888 \r\nL 44.385843 102.904097 \r\nL 45.310704 102.292813 \r\nL 46.235566 93.887663 \r\nL 47.160428 101.528709 \r\nL 48.08529 105.19641 \r\nL 50.859876 106.113336 \r\nL 51.784738 104.890769 \r\nL 52.709599 110.08668 \r\nL 53.634461 114.060023 \r\nL 54.559323 115.741053 \r\nL 57.333909 126.591338 \r\nL 58.258771 114.824128 \r\nL 59.183633 114.060023 \r\nL 60.108494 112.073352 \r\nL 61.033356 125.368771 \r\nL 63.807942 137.747265 \r\nL 65.657666 144.318564 \r\nL 66.582528 142.637534 \r\nL 67.50739 139.122653 \r\nL 70.281975 140.34522 \r\nL 71.206837 138.969832 \r\nL 72.131699 149.514475 \r\nL 73.056561 147.374982 \r\nL 73.981423 132.092891 \r\nL 76.756008 137.441623 \r\nL 77.68087 134.996488 \r\nL 78.605732 149.820117 \r\nL 79.530594 147.986266 \r\nL 80.455456 144.929848 \r\nL 83.230041 154.251924 \r\nL 84.154903 157.919625 \r\nL 85.079765 152.265252 \r\nL 86.004627 149.667296 \r\nL 86.929489 156.849879 \r\nL 89.704075 156.085774 \r\nL 90.628936 155.168849 \r\nL 91.553798 156.544237 \r\nL 93.403522 138.511369 \r\nL 96.178108 116.352337 \r\nL 97.10297 132.856996 \r\nL 98.027831 125.980055 \r\nL 98.952693 133.009817 \r\nL 99.877555 130.870324 \r\nL 102.652141 137.441623 \r\nL 103.577003 132.245712 \r\nL 104.501865 139.275474 \r\nL 105.426727 138.969832 \r\nL 106.351588 133.773921 \r\nL 109.126174 107.335903 \r\nL 110.051036 120.325681 \r\nL 110.975898 123.229278 \r\nL 111.90076 110.239501 \r\nL 112.825622 122.923636 \r\nL 115.600207 131.023145 \r\nL 116.525069 133.009817 \r\nL 118.374793 142.637534 \r\nL 119.299655 150.431401 \r\nL 122.07424 147.527803 \r\nL 122.999102 145.23549 \r\nL 123.923964 141.414967 \r\nL 124.848826 139.122653 \r\nL 125.773688 151.348326 \r\nL 128.548273 168.158627 \r\nL 129.473135 167.394522 \r\nL 131.322859 174.424284 \r\nL 135.022307 168.922731 \r\nL 135.947169 162.809895 \r\nL 136.87203 160.059118 \r\nL 137.796892 155.016028 \r\nL 138.721754 145.999594 \r\nL 141.49634 144.929848 \r\nL 142.421202 141.109325 \r\nL 144.270925 136.677519 \r\nL 145.195787 128.730831 \r\nL 147.970373 108.711291 \r\nL 148.895235 112.226172 \r\nL 149.820097 100.306141 \r\nL 150.744959 93.4292 \r\nL 151.66982 93.4292 \r\nL 154.444406 87.316364 \r\nL 155.369268 72.951198 \r\nL 156.29413 72.492735 \r\nL 157.218992 69.130675 \r\nL 158.143854 75.701974 \r\nL 161.843301 81.203527 \r\nL 162.768163 84.718408 \r\nL 163.693025 75.090691 \r\nL 164.617887 72.492735 \r\nL 167.392472 82.426094 \r\nL 168.317334 79.98096 \r\nL 169.242196 72.951198 \r\nL 171.09192 75.396332 \r\nL 180.340539 82.731736 \r\nL 181.265401 80.897885 \r\nL 182.190262 82.120453 \r\nL 183.115124 72.187093 \r\nL 184.039986 69.130675 \r\nL 186.814572 68.21375 \r\nL 187.739434 64.851689 \r\nL 188.664296 77.230183 \r\nL 189.589157 68.36657 \r\nL 190.514019 73.868123 \r\nL 193.288605 70.964526 \r\nL 194.213467 70.353242 \r\nL 195.138329 71.728631 \r\nL 196.063191 80.592243 \r\nL 196.988052 79.216855 \r\nL 199.762638 93.734842 \r\nL 200.6875 94.193305 \r\nL 201.612362 75.701974 \r\nL 202.537224 86.399438 \r\nL 203.462086 82.273274 \r\nL 206.236671 93.582021 \r\nL 207.161533 103.36256 \r\nL 208.086395 101.528709 \r\nL 209.011257 94.040484 \r\nL 209.936119 100.611783 \r\nL 212.710704 111.920531 \r\nL 213.635566 116.657979 \r\nL 214.560428 116.505158 \r\nL 215.48529 103.973843 \r\nL 216.410152 110.239501 \r\nL 219.184738 111.156426 \r\nL 220.109599 110.850784 \r\nL 221.034461 108.558471 \r\nL 221.959323 111.156426 \r\nL 222.884185 117.574904 \r\nL 225.658771 113.754382 \r\nL 226.583633 115.741053 \r\nL 227.508494 112.837456 \r\nL 228.433356 113.907202 \r\nL 229.358218 60.267062 \r\nL 232.132804 35.204432 \r\nL 233.057666 21.45055 \r\nL 233.982528 29.244417 \r\nL 234.90739 39.483418 \r\nL 235.832251 40.553164 \r\nL 238.606837 26.799282 \r\nL 239.531699 16.254639 \r\nL 240.456561 40.553164 \r\nL 241.381423 24.506968 \r\nL 242.306285 36.579821 \r\nL 245.08087 45.290613 \r\nL 246.005732 42.387015 \r\nL 246.930594 40.094702 \r\nL 247.855456 43.915224 \r\nL 248.780318 42.845478 \r\nL 251.554903 16.101818 \r\nL 252.479765 29.550059 \r\nL 253.404627 26.646461 \r\nL 254.329489 29.550059 \r\nL 255.254351 44.679329 \r\nL 258.028936 45.137792 \r\nL 258.953798 43.762403 \r\nL 259.87866 36.732641 \r\nL 260.803522 59.350137 \r\nL 261.728384 69.130675 \r\nL 264.50297 72.645556 \r\nL 265.427831 90.372782 \r\nL 266.352693 90.984066 \r\nL 267.277555 99.389216 \r\nL 268.202417 116.505158 \r\nL 270.977003 98.930753 \r\nL 271.901865 94.193305 \r\nL 272.826727 99.389216 \r\nL 273.751588 95.568693 \r\nL 274.67645 93.4292 \r\nL 277.451036 89.914319 \r\nL 278.375898 84.412766 \r\nL 279.30076 73.562481 \r\nL 280.225622 77.230183 \r\nL 281.150483 72.798377 \r\nL 284.849931 82.273274 \r\nL 285.774793 71.881451 \r\nL 286.699655 63.017838 \r\nL 287.624517 64.240406 \r\nL 290.399102 62.100913 \r\nL 291.323964 69.89478 \r\nL 292.248826 64.851689 \r\nL 293.173688 75.854795 \r\nL 294.09855 85.482513 \r\nL 296.873135 93.887663 \r\nL 297.797997 92.665096 \r\nL 298.722859 92.512275 \r\nL 299.647721 96.485618 \r\nL 300.572583 96.944081 \r\nL 303.347169 96.485618 \r\nL 304.27203 109.933859 \r\nL 305.196892 105.502052 \r\nL 306.121754 118.186188 \r\nL 307.046616 109.169754 \r\nL 310.746064 120.17286 \r\nL 311.670925 115.893874 \r\nL 312.595787 117.422083 \r\nL 313.520649 97.402544 \r\nL 316.295235 110.239501 \r\nL 317.220097 115.893874 \r\nL 318.144959 126.744159 \r\nL 319.06982 115.282591 \r\nL 319.994682 125.674413 \r\nL 322.769268 120.478502 \r\nL 323.69413 119.255934 \r\nL 324.618992 112.990277 \r\nL 325.543854 105.654873 \r\nL 326.468715 107.335903 \r\nL 329.243301 110.545142 \r\nL 330.168163 105.654873 \r\nL 331.093025 102.292813 \r\nL 332.017887 99.694858 \r\nL 332.942749 104.126664 \r\nL 335.717334 107.794366 \r\nL 336.642196 113.601561 \r\nL 337.567058 113.295919 \r\nL 338.49192 118.950293 \r\nL 339.416782 119.408755 \r\nL 342.191367 120.631323 \r\nL 343.116229 108.558471 \r\nL 344.041091 98.777932 \r\nL 344.965953 109.322575 \r\nL 345.890815 114.212844 \r\nL 348.665401 114.518486 \r\nL 349.590262 117.574904 \r\nL 350.515124 116.199516 \r\nL 351.439986 110.239501 \r\nL 352.364848 136.830339 \r\nL 355.139434 131.175966 \r\nL 356.064296 131.94007 \r\nL 356.989157 131.634428 \r\nL 357.914019 137.747265 \r\nL 358.838881 131.787249 \r\nL 361.613467 135.454951 \r\nL 364.388052 137.288802 \r\nL 365.312914 139.733937 \r\nL 368.0875 136.830339 \r\nL 368.0875 136.830339 \r\n\" style=\"fill:none;stroke:#1f77b4;stroke-linecap:square;stroke-width:1.5;\"/>\r\n   </g>\r\n   <g id=\"line2d_20\">\r\n    <path clip-path=\"url(#p989370602e)\" d=\"M 33.2875 87.316364 \r\nL 34.212362 48.499852 \r\nL 35.137224 77.688646 \r\nL 38.836671 133.468279 \r\nL 39.761533 126.132876 \r\nL 40.686395 112.684635 \r\nL 41.611257 121.395427 \r\nL 44.385843 123.229278 \r\nL 45.310704 122.617995 \r\nL 46.235566 114.671307 \r\nL 47.160428 122.006711 \r\nL 48.08529 125.674413 \r\nL 50.859876 126.438517 \r\nL 51.784738 125.063129 \r\nL 52.709599 129.953398 \r\nL 53.634461 134.079563 \r\nL 54.559323 135.760593 \r\nL 57.333909 146.763699 \r\nL 58.258771 134.843668 \r\nL 59.183633 134.232384 \r\nL 60.108494 132.245712 \r\nL 61.033356 145.23549 \r\nL 63.807942 157.461163 \r\nL 65.657666 164.032462 \r\nL 66.582528 162.351432 \r\nL 67.50739 158.989372 \r\nL 70.281975 159.906297 \r\nL 71.206837 158.530909 \r\nL 72.131699 169.228373 \r\nL 73.056561 166.936059 \r\nL 73.981423 151.95961 \r\nL 76.756008 157.155521 \r\nL 77.68087 155.168849 \r\nL 78.605732 169.686836 \r\nL 79.530594 167.547343 \r\nL 80.455456 164.796567 \r\nL 83.230041 173.660179 \r\nL 84.154903 177.939165 \r\nL 85.079765 172.13197 \r\nL 86.004627 169.075552 \r\nL 86.929489 177.02224 \r\nL 89.704075 175.952493 \r\nL 90.628936 174.729926 \r\nL 91.553798 176.105314 \r\nL 93.403522 158.530909 \r\nL 96.178108 136.371877 \r\nL 97.10297 152.876535 \r\nL 98.027831 145.999594 \r\nL 98.952693 153.029356 \r\nL 99.877555 151.195505 \r\nL 102.652141 157.308342 \r\nL 103.577003 152.112431 \r\nL 104.501865 158.836551 \r\nL 105.426727 159.142193 \r\nL 106.351588 153.793461 \r\nL 109.126174 127.661085 \r\nL 110.051036 140.34522 \r\nL 110.975898 143.248818 \r\nL 111.90076 130.411861 \r\nL 112.825622 142.637534 \r\nL 115.600207 151.042684 \r\nL 116.525069 153.029356 \r\nL 118.374793 162.657074 \r\nL 119.299655 170.298119 \r\nL 122.07424 167.547343 \r\nL 122.999102 164.949387 \r\nL 123.923964 161.434506 \r\nL 124.848826 159.295014 \r\nL 125.773688 171.062224 \r\nL 128.548273 187.872524 \r\nL 129.473135 186.955599 \r\nL 131.322859 194.138182 \r\nL 135.022307 188.636629 \r\nL 135.947169 182.523792 \r\nL 136.87203 179.773016 \r\nL 137.796892 174.729926 \r\nL 138.721754 165.560671 \r\nL 141.49634 164.490925 \r\nL 142.421202 160.976044 \r\nL 144.270925 156.544237 \r\nL 145.195787 148.750371 \r\nL 147.970373 129.189294 \r\nL 148.895235 132.245712 \r\nL 149.820097 120.936964 \r\nL 150.744959 113.907202 \r\nL 151.66982 113.907202 \r\nL 154.444406 107.947187 \r\nL 155.369268 93.123558 \r\nL 156.29413 93.123558 \r\nL 157.218992 89.455856 \r\nL 158.143854 96.332798 \r\nL 161.843301 101.681529 \r\nL 162.768163 105.19641 \r\nL 163.693025 95.874335 \r\nL 164.617887 93.123558 \r\nL 167.392472 103.056918 \r\nL 168.317334 100.306141 \r\nL 169.242196 93.276379 \r\nL 171.09192 96.179977 \r\nL 180.340539 103.36256 \r\nL 181.265401 101.070246 \r\nL 182.190262 102.292813 \r\nL 183.115124 92.817917 \r\nL 184.039986 90.06714 \r\nL 186.814572 89.150215 \r\nL 187.739434 85.788155 \r\nL 188.664296 97.861007 \r\nL 189.589157 88.997394 \r\nL 190.514019 94.804588 \r\nL 193.288605 91.74817 \r\nL 194.213467 91.289707 \r\nL 195.138329 92.512275 \r\nL 196.063191 101.223067 \r\nL 196.988052 100.000499 \r\nL 199.762638 114.365665 \r\nL 200.6875 114.671307 \r\nL 201.612362 96.485618 \r\nL 202.537224 107.183082 \r\nL 203.462086 102.598455 \r\nL 206.236671 113.907202 \r\nL 207.161533 123.840562 \r\nL 208.086395 122.006711 \r\nL 209.011257 114.365665 \r\nL 209.936119 120.784144 \r\nL 212.710704 132.245712 \r\nL 213.635566 136.830339 \r\nL 214.560428 136.830339 \r\nL 215.48529 123.993383 \r\nL 216.410152 130.411861 \r\nL 219.184738 131.481607 \r\nL 220.109599 131.175966 \r\nL 221.034461 128.57801 \r\nL 221.959323 131.481607 \r\nL 222.884185 137.900086 \r\nL 225.658771 134.079563 \r\nL 226.583633 135.913414 \r\nL 227.508494 133.162638 \r\nL 228.433356 133.926742 \r\nL 229.358218 81.050706 \r\nL 232.132804 56.293718 \r\nL 233.057666 42.387015 \r\nL 233.982528 50.333703 \r\nL 234.90739 60.419883 \r\nL 235.832251 61.183988 \r\nL 238.606837 47.582926 \r\nL 239.531699 37.496746 \r\nL 240.456561 61.336808 \r\nL 241.381423 45.596254 \r\nL 242.306285 57.210644 \r\nL 245.08087 66.074257 \r\nL 246.005732 62.865018 \r\nL 246.930594 61.031167 \r\nL 247.855456 64.851689 \r\nL 248.780318 63.781943 \r\nL 251.554903 37.343925 \r\nL 252.479765 50.639345 \r\nL 253.404627 47.430105 \r\nL 254.329489 50.486524 \r\nL 255.254351 65.615794 \r\nL 258.028936 66.227078 \r\nL 258.953798 64.851689 \r\nL 259.87866 57.821927 \r\nL 260.803522 80.286602 \r\nL 261.728384 89.608677 \r\nL 264.50297 93.123558 \r\nL 265.427831 110.850784 \r\nL 266.352693 111.462068 \r\nL 267.277555 119.714397 \r\nL 268.202417 136.830339 \r\nL 270.977003 118.950293 \r\nL 271.901865 114.671307 \r\nL 272.826727 119.561576 \r\nL 273.751588 115.588233 \r\nL 274.67645 113.907202 \r\nL 277.451036 110.392321 \r\nL 278.375898 104.890769 \r\nL 279.30076 94.498947 \r\nL 280.225622 97.708186 \r\nL 281.150483 93.4292 \r\nL 284.849931 102.904097 \r\nL 286.699655 83.34302 \r\nL 287.624517 84.718408 \r\nL 290.399102 82.884557 \r\nL 291.323964 90.678424 \r\nL 292.248826 85.788155 \r\nL 294.09855 106.113336 \r\nL 296.873135 114.365665 \r\nL 297.797997 112.837456 \r\nL 298.722859 112.531814 \r\nL 299.647721 116.8108 \r\nL 300.572583 116.963621 \r\nL 303.347169 116.963621 \r\nL 304.27203 130.25904 \r\nL 305.196892 125.368771 \r\nL 306.121754 138.052907 \r\nL 307.046616 129.494936 \r\nL 310.746064 140.039579 \r\nL 311.670925 136.219056 \r\nL 312.595787 137.594444 \r\nL 313.520649 117.880546 \r\nL 316.295235 130.564682 \r\nL 317.220097 136.219056 \r\nL 318.144959 146.91652 \r\nL 319.06982 135.149309 \r\nL 319.994682 145.541131 \r\nL 322.769268 140.34522 \r\nL 323.69413 139.122653 \r\nL 324.618992 133.315458 \r\nL 325.543854 125.980055 \r\nL 326.468715 127.661085 \r\nL 329.243301 130.717503 \r\nL 330.168163 125.674413 \r\nL 331.093025 122.617995 \r\nL 332.017887 120.17286 \r\nL 332.942749 124.604666 \r\nL 335.717334 127.813906 \r\nL 336.642196 133.926742 \r\nL 337.567058 133.315458 \r\nL 338.49192 139.122653 \r\nL 339.416782 139.581116 \r\nL 342.191367 140.803683 \r\nL 343.116229 128.883652 \r\nL 344.041091 119.255934 \r\nL 344.965953 129.647757 \r\nL 345.890815 134.538026 \r\nL 348.665401 134.690847 \r\nL 349.590262 137.441623 \r\nL 350.515124 136.219056 \r\nL 351.439986 130.564682 \r\nL 352.364848 156.391416 \r\nL 355.139434 151.195505 \r\nL 356.064296 151.653968 \r\nL 356.989157 151.806789 \r\nL 357.914019 157.766805 \r\nL 358.838881 151.501147 \r\nL 361.613467 155.168849 \r\nL 364.388052 157.0027 \r\nL 365.312914 159.295014 \r\nL 368.0875 156.391416 \r\nL 368.0875 156.391416 \r\n\" style=\"fill:none;stroke:#ff7f0e;stroke-linecap:square;stroke-width:1.5;\"/>\r\n   </g>\r\n   <g id=\"patch_3\">\r\n    <path d=\"M 33.2875 203.04 \r\nL 33.2875 7.2 \r\n\" style=\"fill:none;stroke:#000000;stroke-linecap:square;stroke-linejoin:miter;stroke-width:0.8;\"/>\r\n   </g>\r\n   <g id=\"patch_4\">\r\n    <path d=\"M 368.0875 203.04 \r\nL 368.0875 7.2 \r\n\" style=\"fill:none;stroke:#000000;stroke-linecap:square;stroke-linejoin:miter;stroke-width:0.8;\"/>\r\n   </g>\r\n   <g id=\"patch_5\">\r\n    <path d=\"M 33.2875 203.04 \r\nL 368.0875 203.04 \r\n\" style=\"fill:none;stroke:#000000;stroke-linecap:square;stroke-linejoin:miter;stroke-width:0.8;\"/>\r\n   </g>\r\n   <g id=\"patch_6\">\r\n    <path d=\"M 33.2875 7.2 \r\nL 368.0875 7.2 \r\n\" style=\"fill:none;stroke:#000000;stroke-linecap:square;stroke-linejoin:miter;stroke-width:0.8;\"/>\r\n   </g>\r\n   <g id=\"legend_1\">\r\n    <g id=\"patch_7\">\r\n     <path d=\"M 283.801563 45.1125 \r\nL 361.0875 45.1125 \r\nQ 363.0875 45.1125 363.0875 43.1125 \r\nL 363.0875 14.2 \r\nQ 363.0875 12.2 361.0875 12.2 \r\nL 283.801563 12.2 \r\nQ 281.801563 12.2 281.801563 14.2 \r\nL 281.801563 43.1125 \r\nQ 281.801563 45.1125 283.801563 45.1125 \r\nz\r\n\" style=\"fill:#ffffff;opacity:0.8;stroke:#cccccc;stroke-linejoin:miter;\"/>\r\n    </g>\r\n    <g id=\"line2d_21\">\r\n     <path d=\"M 285.801563 20.298438 \r\nL 305.801563 20.298438 \r\n\" style=\"fill:none;stroke:#1f77b4;stroke-linecap:square;stroke-width:1.5;\"/>\r\n    </g>\r\n    <g id=\"line2d_22\"/>\r\n    <g id=\"text_20\">\r\n     <!-- Kurs_Jual -->\r\n     <defs>\r\n      <path d=\"M 9.8125 72.90625 \r\nL 19.671875 72.90625 \r\nL 19.671875 42.09375 \r\nL 52.390625 72.90625 \r\nL 65.09375 72.90625 \r\nL 28.90625 38.921875 \r\nL 67.671875 0 \r\nL 54.6875 0 \r\nL 19.671875 35.109375 \r\nL 19.671875 0 \r\nL 9.8125 0 \r\nz\r\n\" id=\"DejaVuSans-75\"/>\r\n      <path d=\"M 8.5 21.578125 \r\nL 8.5 54.6875 \r\nL 17.484375 54.6875 \r\nL 17.484375 21.921875 \r\nQ 17.484375 14.15625 20.5 10.265625 \r\nQ 23.53125 6.390625 29.59375 6.390625 \r\nQ 36.859375 6.390625 41.078125 11.03125 \r\nQ 45.3125 15.671875 45.3125 23.6875 \r\nL 45.3125 54.6875 \r\nL 54.296875 54.6875 \r\nL 54.296875 0 \r\nL 45.3125 0 \r\nL 45.3125 8.40625 \r\nQ 42.046875 3.421875 37.71875 1 \r\nQ 33.40625 -1.421875 27.6875 -1.421875 \r\nQ 18.265625 -1.421875 13.375 4.4375 \r\nQ 8.5 10.296875 8.5 21.578125 \r\nz\r\nM 31.109375 56 \r\nz\r\n\" id=\"DejaVuSans-117\"/>\r\n      <path d=\"M 41.109375 46.296875 \r\nQ 39.59375 47.171875 37.8125 47.578125 \r\nQ 36.03125 48 33.890625 48 \r\nQ 26.265625 48 22.1875 43.046875 \r\nQ 18.109375 38.09375 18.109375 28.8125 \r\nL 18.109375 0 \r\nL 9.078125 0 \r\nL 9.078125 54.6875 \r\nL 18.109375 54.6875 \r\nL 18.109375 46.1875 \r\nQ 20.953125 51.171875 25.484375 53.578125 \r\nQ 30.03125 56 36.53125 56 \r\nQ 37.453125 56 38.578125 55.875 \r\nQ 39.703125 55.765625 41.0625 55.515625 \r\nz\r\n\" id=\"DejaVuSans-114\"/>\r\n      <path d=\"M 44.28125 53.078125 \r\nL 44.28125 44.578125 \r\nQ 40.484375 46.53125 36.375 47.5 \r\nQ 32.28125 48.484375 27.875 48.484375 \r\nQ 21.1875 48.484375 17.84375 46.4375 \r\nQ 14.5 44.390625 14.5 40.28125 \r\nQ 14.5 37.15625 16.890625 35.375 \r\nQ 19.28125 33.59375 26.515625 31.984375 \r\nL 29.59375 31.296875 \r\nQ 39.15625 29.25 43.1875 25.515625 \r\nQ 47.21875 21.78125 47.21875 15.09375 \r\nQ 47.21875 7.46875 41.1875 3.015625 \r\nQ 35.15625 -1.421875 24.609375 -1.421875 \r\nQ 20.21875 -1.421875 15.453125 -0.5625 \r\nQ 10.6875 0.296875 5.421875 2 \r\nL 5.421875 11.28125 \r\nQ 10.40625 8.6875 15.234375 7.390625 \r\nQ 20.0625 6.109375 24.8125 6.109375 \r\nQ 31.15625 6.109375 34.5625 8.28125 \r\nQ 37.984375 10.453125 37.984375 14.40625 \r\nQ 37.984375 18.0625 35.515625 20.015625 \r\nQ 33.0625 21.96875 24.703125 23.78125 \r\nL 21.578125 24.515625 \r\nQ 13.234375 26.265625 9.515625 29.90625 \r\nQ 5.8125 33.546875 5.8125 39.890625 \r\nQ 5.8125 47.609375 11.28125 51.796875 \r\nQ 16.75 56 26.8125 56 \r\nQ 31.78125 56 36.171875 55.265625 \r\nQ 40.578125 54.546875 44.28125 53.078125 \r\nz\r\n\" id=\"DejaVuSans-115\"/>\r\n      <path d=\"M 50.984375 -16.609375 \r\nL 50.984375 -23.578125 \r\nL -0.984375 -23.578125 \r\nL -0.984375 -16.609375 \r\nz\r\n\" id=\"DejaVuSans-95\"/>\r\n      <path d=\"M 9.8125 72.90625 \r\nL 19.671875 72.90625 \r\nL 19.671875 5.078125 \r\nQ 19.671875 -8.109375 14.671875 -14.0625 \r\nQ 9.671875 -20.015625 -1.421875 -20.015625 \r\nL -5.171875 -20.015625 \r\nL -5.171875 -11.71875 \r\nL -2.09375 -11.71875 \r\nQ 4.4375 -11.71875 7.125 -8.046875 \r\nQ 9.8125 -4.390625 9.8125 5.078125 \r\nz\r\n\" id=\"DejaVuSans-74\"/>\r\n     </defs>\r\n     <g transform=\"translate(313.801563 23.798438)scale(0.1 -0.1)\">\r\n      <use xlink:href=\"#DejaVuSans-75\"/>\r\n      <use x=\"60.576172\" xlink:href=\"#DejaVuSans-117\"/>\r\n      <use x=\"123.955078\" xlink:href=\"#DejaVuSans-114\"/>\r\n      <use x=\"165.068359\" xlink:href=\"#DejaVuSans-115\"/>\r\n      <use x=\"217.167969\" xlink:href=\"#DejaVuSans-95\"/>\r\n      <use x=\"267.167969\" xlink:href=\"#DejaVuSans-74\"/>\r\n      <use x=\"296.660156\" xlink:href=\"#DejaVuSans-117\"/>\r\n      <use x=\"360.039062\" xlink:href=\"#DejaVuSans-97\"/>\r\n      <use x=\"421.318359\" xlink:href=\"#DejaVuSans-108\"/>\r\n     </g>\r\n    </g>\r\n    <g id=\"line2d_23\">\r\n     <path d=\"M 285.801563 35.254688 \r\nL 305.801563 35.254688 \r\n\" style=\"fill:none;stroke:#ff7f0e;stroke-linecap:square;stroke-width:1.5;\"/>\r\n    </g>\r\n    <g id=\"line2d_24\"/>\r\n    <g id=\"text_21\">\r\n     <!-- Kurs_Beli -->\r\n     <defs>\r\n      <path d=\"M 19.671875 34.8125 \r\nL 19.671875 8.109375 \r\nL 35.5 8.109375 \r\nQ 43.453125 8.109375 47.28125 11.40625 \r\nQ 51.125 14.703125 51.125 21.484375 \r\nQ 51.125 28.328125 47.28125 31.5625 \r\nQ 43.453125 34.8125 35.5 34.8125 \r\nz\r\nM 19.671875 64.796875 \r\nL 19.671875 42.828125 \r\nL 34.28125 42.828125 \r\nQ 41.5 42.828125 45.03125 45.53125 \r\nQ 48.578125 48.25 48.578125 53.8125 \r\nQ 48.578125 59.328125 45.03125 62.0625 \r\nQ 41.5 64.796875 34.28125 64.796875 \r\nz\r\nM 9.8125 72.90625 \r\nL 35.015625 72.90625 \r\nQ 46.296875 72.90625 52.390625 68.21875 \r\nQ 58.5 63.53125 58.5 54.890625 \r\nQ 58.5 48.1875 55.375 44.234375 \r\nQ 52.25 40.28125 46.1875 39.3125 \r\nQ 53.46875 37.75 57.5 32.78125 \r\nQ 61.53125 27.828125 61.53125 20.40625 \r\nQ 61.53125 10.640625 54.890625 5.3125 \r\nQ 48.25 0 35.984375 0 \r\nL 9.8125 0 \r\nz\r\n\" id=\"DejaVuSans-66\"/>\r\n      <path d=\"M 56.203125 29.59375 \r\nL 56.203125 25.203125 \r\nL 14.890625 25.203125 \r\nQ 15.484375 15.921875 20.484375 11.0625 \r\nQ 25.484375 6.203125 34.421875 6.203125 \r\nQ 39.59375 6.203125 44.453125 7.46875 \r\nQ 49.3125 8.734375 54.109375 11.28125 \r\nL 54.109375 2.78125 \r\nQ 49.265625 0.734375 44.1875 -0.34375 \r\nQ 39.109375 -1.421875 33.890625 -1.421875 \r\nQ 20.796875 -1.421875 13.15625 6.1875 \r\nQ 5.515625 13.8125 5.515625 26.8125 \r\nQ 5.515625 40.234375 12.765625 48.109375 \r\nQ 20.015625 56 32.328125 56 \r\nQ 43.359375 56 49.78125 48.890625 \r\nQ 56.203125 41.796875 56.203125 29.59375 \r\nz\r\nM 47.21875 32.234375 \r\nQ 47.125 39.59375 43.09375 43.984375 \r\nQ 39.0625 48.390625 32.421875 48.390625 \r\nQ 24.90625 48.390625 20.390625 44.140625 \r\nQ 15.875 39.890625 15.1875 32.171875 \r\nz\r\n\" id=\"DejaVuSans-101\"/>\r\n      <path d=\"M 9.421875 54.6875 \r\nL 18.40625 54.6875 \r\nL 18.40625 0 \r\nL 9.421875 0 \r\nz\r\nM 9.421875 75.984375 \r\nL 18.40625 75.984375 \r\nL 18.40625 64.59375 \r\nL 9.421875 64.59375 \r\nz\r\n\" id=\"DejaVuSans-105\"/>\r\n     </defs>\r\n     <g transform=\"translate(313.801563 38.754688)scale(0.1 -0.1)\">\r\n      <use xlink:href=\"#DejaVuSans-75\"/>\r\n      <use x=\"60.576172\" xlink:href=\"#DejaVuSans-117\"/>\r\n      <use x=\"123.955078\" xlink:href=\"#DejaVuSans-114\"/>\r\n      <use x=\"165.068359\" xlink:href=\"#DejaVuSans-115\"/>\r\n      <use x=\"217.167969\" xlink:href=\"#DejaVuSans-95\"/>\r\n      <use x=\"267.167969\" xlink:href=\"#DejaVuSans-66\"/>\r\n      <use x=\"335.771484\" xlink:href=\"#DejaVuSans-101\"/>\r\n      <use x=\"397.294922\" xlink:href=\"#DejaVuSans-108\"/>\r\n      <use x=\"425.078125\" xlink:href=\"#DejaVuSans-105\"/>\r\n     </g>\r\n    </g>\r\n   </g>\r\n  </g>\r\n </g>\r\n <defs>\r\n  <clipPath id=\"p989370602e\">\r\n   <rect height=\"195.84\" width=\"334.8\" x=\"33.2875\" y=\"7.2\"/>\r\n  </clipPath>\r\n </defs>\r\n</svg>\r\n",
      "image/png": "[encoded data removed]"
     },
     "metadata": {
      "needs_background": "light"
     }
    }
   ],
   "source": [
    "df.plot()"
   ]
  },
  {
   "cell_type": "markdown",
   "metadata": {},
   "source": [
    "## The Analysis\n",
    "\n",
    "From the chart, There are some pieces of information we could gather regarding the data of Ask and Bid for Yen currency im 2019. The first, The Kurs_Jual is always higher than Kurs_Beli. In August 2019, the Kurs Jual and the kurs_beli reach the highest rate among all months in 2019 to around 134 - 136. and they reach the lowest rate in month of April. The rate varies from 124 to 136 "
   ]
  },
  {
   "cell_type": "code",
   "execution_count": null,
   "metadata": {},
   "outputs": [],
   "source": []
  }
 ],
 "metadata": {
  "language_info": {
   "codemirror_mode": {
    "name": "ipython",
    "version": 3
   },
   "file_extension": ".py",
   "mimetype": "text/x-python",
   "name": "python",
   "nbconvert_exporter": "python",
   "pygments_lexer": "ipython3",
   "version": "3.7.0-final"
  },
  "orig_nbformat": 2,
  "kernelspec": {
   "name": "soup",
   "display_name": "soup"
  }
 },
 "nbformat": 4,
 "nbformat_minor": 2
}